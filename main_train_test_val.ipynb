{
 "cells": [
  {
   "cell_type": "code",
   "execution_count": 1,
   "id": "2acbe024",
   "metadata": {
    "id": "2acbe024"
   },
   "outputs": [],
   "source": [
    "import pandas as pd\n",
    "from helper_functions import create_tensorboard_callback, calculate_results"
   ]
  },
  {
   "cell_type": "code",
   "execution_count": 2,
   "id": "825d98f5",
   "metadata": {
    "id": "825d98f5"
   },
   "outputs": [],
   "source": [
    "df = pd.read_csv('./pre/df1.csv')"
   ]
  },
  {
   "cell_type": "code",
   "execution_count": 3,
   "id": "28c11872",
   "metadata": {
    "colab": {
     "base_uri": "https://localhost:8080/",
     "height": 465
    },
    "id": "28c11872",
    "outputId": "b7eea948-99b5-42c8-9c4b-2c4e4daf95bd"
   },
   "outputs": [
    {
     "data": {
      "text/plain": [
       "Index(['Unnamed: 0', 'text', 'freu', 'word count'], dtype='object')"
      ]
     },
     "metadata": {},
     "output_type": "display_data"
    },
    {
     "data": {
      "text/html": [
       "<div>\n",
       "<style scoped>\n",
       "    .dataframe tbody tr th:only-of-type {\n",
       "        vertical-align: middle;\n",
       "    }\n",
       "\n",
       "    .dataframe tbody tr th {\n",
       "        vertical-align: top;\n",
       "    }\n",
       "\n",
       "    .dataframe thead th {\n",
       "        text-align: right;\n",
       "    }\n",
       "</style>\n",
       "<table border=\"1\" class=\"dataframe\">\n",
       "  <thead>\n",
       "    <tr style=\"text-align: right;\">\n",
       "      <th></th>\n",
       "      <th>Unnamed: 0</th>\n",
       "      <th>text</th>\n",
       "      <th>freu</th>\n",
       "      <th>word count</th>\n",
       "    </tr>\n",
       "  </thead>\n",
       "  <tbody>\n",
       "    <tr>\n",
       "      <th>0</th>\n",
       "      <td>0</td>\n",
       "      <td>marketing intern marketing food created ground...</td>\n",
       "      <td>0</td>\n",
       "      <td>256</td>\n",
       "    </tr>\n",
       "    <tr>\n",
       "      <th>1</th>\n",
       "      <td>1</td>\n",
       "      <td>customer service cloud video production succes...</td>\n",
       "      <td>0</td>\n",
       "      <td>614</td>\n",
       "    </tr>\n",
       "    <tr>\n",
       "      <th>2</th>\n",
       "      <td>2</td>\n",
       "      <td>commissioning machinery assistant cma valor se...</td>\n",
       "      <td>0</td>\n",
       "      <td>236</td>\n",
       "    </tr>\n",
       "    <tr>\n",
       "      <th>3</th>\n",
       "      <td>3</td>\n",
       "      <td>account executive washington dc sale passion i...</td>\n",
       "      <td>0</td>\n",
       "      <td>495</td>\n",
       "    </tr>\n",
       "    <tr>\n",
       "      <th>4</th>\n",
       "      <td>4</td>\n",
       "      <td>bill review manager spotsource solution llc gl...</td>\n",
       "      <td>0</td>\n",
       "      <td>381</td>\n",
       "    </tr>\n",
       "  </tbody>\n",
       "</table>\n",
       "</div>"
      ],
      "text/plain": [
       "   Unnamed: 0                                               text  freu  \\\n",
       "0           0  marketing intern marketing food created ground...     0   \n",
       "1           1  customer service cloud video production succes...     0   \n",
       "2           2  commissioning machinery assistant cma valor se...     0   \n",
       "3           3  account executive washington dc sale passion i...     0   \n",
       "4           4  bill review manager spotsource solution llc gl...     0   \n",
       "\n",
       "   word count  \n",
       "0         256  \n",
       "1         614  \n",
       "2         236  \n",
       "3         495  \n",
       "4         381  "
      ]
     },
     "metadata": {},
     "output_type": "display_data"
    }
   ],
   "source": [
    "display(df.columns)\n",
    "display(df.head())"
   ]
  },
  {
   "cell_type": "code",
   "execution_count": 4,
   "id": "a74dc4af",
   "metadata": {
    "colab": {
     "base_uri": "https://localhost:8080/"
    },
    "id": "a74dc4af",
    "outputId": "98a4a60e-731e-4c55-d61e-5f1a22af591f"
   },
   "outputs": [
    {
     "data": {
      "text/plain": [
       "count    17880.000000\n",
       "mean       259.217450\n",
       "std        137.289935\n",
       "min          2.000000\n",
       "25%        156.000000\n",
       "50%        245.000000\n",
       "75%        336.000000\n",
       "max       1426.000000\n",
       "Name: word count, dtype: float64"
      ]
     },
     "execution_count": 4,
     "metadata": {},
     "output_type": "execute_result"
    }
   ],
   "source": [
    "df['word count'].describe()"
   ]
  },
  {
   "cell_type": "code",
   "execution_count": 5,
   "id": "2d8ea25b",
   "metadata": {
    "colab": {
     "base_uri": "https://localhost:8080/",
     "height": 121
    },
    "id": "2d8ea25b",
    "outputId": "195052e0-b2c2-44bf-9821-50b5f635f516"
   },
   "outputs": [
    {
     "data": {
      "text/plain": [
       "0    17014\n",
       "1      866\n",
       "Name: freu, dtype: int64"
      ]
     },
     "metadata": {},
     "output_type": "display_data"
    }
   ],
   "source": [
    "display(df.freu.value_counts())"
   ]
  },
  {
   "cell_type": "code",
   "execution_count": 6,
   "id": "bf8e1697",
   "metadata": {
    "colab": {
     "base_uri": "https://localhost:8080/",
     "height": 122
    },
    "id": "bf8e1697",
    "outputId": "e2d52a32-4adf-4563-f388-3f22312970eb"
   },
   "outputs": [
    {
     "data": {
      "text/plain": [
       "'marketing intern marketing food created groundbreaking award winning cooking site support connect celebrate home cook give everything need one place top editorial business engineering team focused using technology find new better way connect people around specific food interest offer superb highly curated information food cooking attract talented home cook contributor country also publish well known professional like mario batali gwyneth paltrow danny meyer partnership whole food market random house food named best food website james beard foundation iacp featured new york time npr pando daily techcrunch today show located chelsea new york city food fast growing james beard award winning online food community crowd sourced curated recipe hub currently interviewing full part time unpaid intern work small team editor executive developer new york city headquarters reproducing repackaging existing food content number partner site huffington post yahoo buzzfeed various content management systemsresearching blog website provision food affiliate programassisting day day affiliate program support screening affiliate assisting affiliate inquiriessupporting pr amp event neededhelping office administrative work filing mailing preparing meetingsworking developer document bug suggest improvement sitesupporting marketing executive staff experience content management system major plus blogging count familiar food editorial voice aestheticloves food appreciates importance home cooking cooking seasonsmeticulous editor perfectionist obsessive attention detail maddened typo broken link delighted finding fixing themcheerful pressureexcellent communication skillsa multi tasker juggler responsibility big smallinterested engaged social medium like twitter facebook pinterestloves problem solving collaborating drive food forwardthinks big picture pitch nitty gritty running small company dish shopping administrative support comfortable reality working startup call evening weekend working long hour marketing internship'"
      ]
     },
     "execution_count": 6,
     "metadata": {},
     "output_type": "execute_result"
    }
   ],
   "source": [
    "df.text.iloc[0]"
   ]
  },
  {
   "cell_type": "code",
   "execution_count": 7,
   "id": "a535924d",
   "metadata": {
    "id": "a535924d"
   },
   "outputs": [],
   "source": [
    "from sklearn.model_selection import train_test_split"
   ]
  },
  {
   "cell_type": "code",
   "execution_count": 9,
   "id": "5d7eca4d",
   "metadata": {
    "id": "5d7eca4d"
   },
   "outputs": [],
   "source": [
    "train_x, test_sentences, train_y, test_labels = train_test_split(df['text'].to_numpy(),\n",
    "                                                                              df['freu'].to_numpy(),\n",
    "                                                                              test_size = 0.10,\n",
    "                                                                              random_state=42)"
   ]
  },
  {
   "cell_type": "code",
   "execution_count": 10,
   "id": "fe99c951",
   "metadata": {},
   "outputs": [],
   "source": [
    "train_sentences, val_sentences, train_labels, val_labels = train_test_split(train_x,\n",
    "                                                                              train_y,\n",
    "                                                                              test_size = 0.10,\n",
    "                                                                              random_state=42)"
   ]
  },
  {
   "cell_type": "code",
   "execution_count": 11,
   "id": "a26da417",
   "metadata": {
    "colab": {
     "base_uri": "https://localhost:8080/"
    },
    "id": "a26da417",
    "outputId": "1d6f7634-2881-4097-9268-e01f8454e5b4"
   },
   "outputs": [
    {
     "data": {
      "text/plain": [
       "(14482, 1788, 1610, 14482, 1788, 1610)"
      ]
     },
     "execution_count": 11,
     "metadata": {},
     "output_type": "execute_result"
    }
   ],
   "source": [
    "len(train_sentences), len(test_sentences), len(val_sentences), len(train_labels), len(test_labels), len(val_labels)"
   ]
  },
  {
   "cell_type": "code",
   "execution_count": 12,
   "id": "f7c35110",
   "metadata": {
    "colab": {
     "base_uri": "https://localhost:8080/"
    },
    "id": "f7c35110",
    "outputId": "dda90d11-f312-44f5-8e6b-8e2f1c758a6f"
   },
   "outputs": [],
   "source": [
    "# train_sentences[:10], train_labels[:10]"
   ]
  },
  {
   "cell_type": "markdown",
   "id": "e75dc58d",
   "metadata": {
    "id": "e75dc58d"
   },
   "source": [
    "### Tokenization"
   ]
  },
  {
   "cell_type": "code",
   "execution_count": 13,
   "id": "d238b594",
   "metadata": {
    "id": "d238b594"
   },
   "outputs": [],
   "source": [
    "import tensorflow as tf\n",
    "from tensorflow.keras.layers.experimental.preprocessing import TextVectorization\n",
    "\n",
    "max_vocab_length = 10000\n",
    "max_length = 1000\n",
    "\n",
    "text_vectorizer = TextVectorization(max_tokens = max_vocab_length, #how many words in vocab, if none there is no cap\n",
    "                                    output_mode = 'int', #how to map tokens to numbers\n",
    "                                    output_sequence_length = max_length, #batch length/sequence length, auto pads to max length\n",
    "                                   )"
   ]
  },
  {
   "cell_type": "code",
   "execution_count": 14,
   "id": "e533308e",
   "metadata": {
    "id": "e533308e"
   },
   "outputs": [],
   "source": [
    "text_vectorizer.adapt(train_sentences)"
   ]
  },
  {
   "cell_type": "code",
   "execution_count": 15,
   "id": "9d67b4a8",
   "metadata": {
    "id": "9d67b4a8"
   },
   "outputs": [],
   "source": [
    "sample = \"there's a flood in my street!\"\n",
    "# text_vectorizer([sample])"
   ]
  },
  {
   "cell_type": "code",
   "execution_count": 16,
   "id": "71ebff49",
   "metadata": {
    "colab": {
     "base_uri": "https://localhost:8080/"
    },
    "id": "71ebff49",
    "outputId": "34dcc4d5-8abd-4ac9-f0af-f77c2c7e0c9f"
   },
   "outputs": [
    {
     "name": "stdout",
     "output_type": "stream",
     "text": [
      "Original text:\n",
      " ppc specialist zylun mission help small medium size enterprise take advantage highly skilled global workforce simple cost effective way help company flexibly hire staff overseas comprised developer designer internet marketer manager customer service representative zylun staffing take pride providing simple effective service ensuring dedicated employee fit client exact need career opportunity administrative graphic design seo data entry sale agent chat agent customer representative zylun american owned operated company headquartered north east suite lehi utah american management heading offshore operation duty keyword researchanalyzing client website content product linesdevelop optimize manage every aspect client pay per click campaign including ongoing keyword research optimizationad creation optimizationbid managementbudget tracking forecastingweekly amp monthly account tracking amp result analysisreporting result client expertise text display video ad creation optimizationconversion setup trackingremarketing campaign creation deploymentanalytics integration esp adwords analyticslanding page creation optimizationrequires strong organization amp communication skill ability work well agency client representative ability write edit written report include text excel based chart graph platform expertise google adwords platform knowledge bing yahoo adsfacebook ad managerlinkedin ad marketing bachelor degree staffing recruiting        \n",
      "\n",
      "Vectorized version:\n"
     ]
    },
    {
     "data": {
      "text/plain": [
       "<tf.Tensor: shape=(1, 1000), dtype=int64, numpy=\n",
       "array([[2442,  413, 4835,  272,   46,  226,   73,  782,  241,  125,  914,\n",
       "         151,  768,  152, 1347,  634,  220,  364,  137,   46,    7, 3466,\n",
       "         517,  174, 3298, 2877,   97,  260,  265, 1401,   61,    6,    5,\n",
       "         344, 4835,  674,  125,  678,  180,  634,  364,    5,  493,  541,\n",
       "          65,  726,   13, 6625,   53,  109,   30,  419,  884,   29, 1001,\n",
       "          43,  168,   16,  994, 2221,  994,    6,  344, 4835, 1139, 1158,\n",
       "        1922,    7, 1466, 1263, 1413,  600,    1, 5747, 1139,   18, 6135,\n",
       "        2090,  146,  203, 3849,    1,   13,  147,  167,   14,    1,  788,\n",
       "         149,  150,  641,   13,  386,  249,  803,  262,   51,  801, 3849,\n",
       "         239,    1, 1134,    1,    1,  962,    1,   23,  415,  128,  962,\n",
       "          23,  190,    1,  190,   13,  387, 2265, 1335,  363,  306, 1134,\n",
       "           1, 1618,    1,  262, 1134,    1,  562, 8496, 1929,    1,  824,\n",
       "        1134,    1,   68,  160,   23,   35,   15,   34,    3,   60,  156,\n",
       "          13,  344,   34,  774, 2477,  148,  189,  112, 2265,  378,   54,\n",
       "        3232, 3715,  104,  387,  539, 1929,  104,   45, 5910, 3022,    1,\n",
       "         306,    1,  306,   27,   88,   41,  674,  369,    0,    0,    0,\n",
       "           0,    0,    0,    0,    0,    0,    0,    0,    0,    0,    0,\n",
       "           0,    0,    0,    0,    0,    0,    0,    0,    0,    0,    0,\n",
       "           0,    0,    0,    0,    0,    0,    0,    0,    0,    0,    0,\n",
       "           0,    0,    0,    0,    0,    0,    0,    0,    0,    0,    0,\n",
       "           0,    0,    0,    0,    0,    0,    0,    0,    0,    0,    0,\n",
       "           0,    0,    0,    0,    0,    0,    0,    0,    0,    0,    0,\n",
       "           0,    0,    0,    0,    0,    0,    0,    0,    0,    0,    0,\n",
       "           0,    0,    0,    0,    0,    0,    0,    0,    0,    0,    0,\n",
       "           0,    0,    0,    0,    0,    0,    0,    0,    0,    0,    0,\n",
       "           0,    0,    0,    0,    0,    0,    0,    0,    0,    0,    0,\n",
       "           0,    0,    0,    0,    0,    0,    0,    0,    0,    0,    0,\n",
       "           0,    0,    0,    0,    0,    0,    0,    0,    0,    0,    0,\n",
       "           0,    0,    0,    0,    0,    0,    0,    0,    0,    0,    0,\n",
       "           0,    0,    0,    0,    0,    0,    0,    0,    0,    0,    0,\n",
       "           0,    0,    0,    0,    0,    0,    0,    0,    0,    0,    0,\n",
       "           0,    0,    0,    0,    0,    0,    0,    0,    0,    0,    0,\n",
       "           0,    0,    0,    0,    0,    0,    0,    0,    0,    0,    0,\n",
       "           0,    0,    0,    0,    0,    0,    0,    0,    0,    0,    0,\n",
       "           0,    0,    0,    0,    0,    0,    0,    0,    0,    0,    0,\n",
       "           0,    0,    0,    0,    0,    0,    0,    0,    0,    0,    0,\n",
       "           0,    0,    0,    0,    0,    0,    0,    0,    0,    0,    0,\n",
       "           0,    0,    0,    0,    0,    0,    0,    0,    0,    0,    0,\n",
       "           0,    0,    0,    0,    0,    0,    0,    0,    0,    0,    0,\n",
       "           0,    0,    0,    0,    0,    0,    0,    0,    0,    0,    0,\n",
       "           0,    0,    0,    0,    0,    0,    0,    0,    0,    0,    0,\n",
       "           0,    0,    0,    0,    0,    0,    0,    0,    0,    0,    0,\n",
       "           0,    0,    0,    0,    0,    0,    0,    0,    0,    0,    0,\n",
       "           0,    0,    0,    0,    0,    0,    0,    0,    0,    0,    0,\n",
       "           0,    0,    0,    0,    0,    0,    0,    0,    0,    0,    0,\n",
       "           0,    0,    0,    0,    0,    0,    0,    0,    0,    0,    0,\n",
       "           0,    0,    0,    0,    0,    0,    0,    0,    0,    0,    0,\n",
       "           0,    0,    0,    0,    0,    0,    0,    0,    0,    0,    0,\n",
       "           0,    0,    0,    0,    0,    0,    0,    0,    0,    0,    0,\n",
       "           0,    0,    0,    0,    0,    0,    0,    0,    0,    0,    0,\n",
       "           0,    0,    0,    0,    0,    0,    0,    0,    0,    0,    0,\n",
       "           0,    0,    0,    0,    0,    0,    0,    0,    0,    0,    0,\n",
       "           0,    0,    0,    0,    0,    0,    0,    0,    0,    0,    0,\n",
       "           0,    0,    0,    0,    0,    0,    0,    0,    0,    0,    0,\n",
       "           0,    0,    0,    0,    0,    0,    0,    0,    0,    0,    0,\n",
       "           0,    0,    0,    0,    0,    0,    0,    0,    0,    0,    0,\n",
       "           0,    0,    0,    0,    0,    0,    0,    0,    0,    0,    0,\n",
       "           0,    0,    0,    0,    0,    0,    0,    0,    0,    0,    0,\n",
       "           0,    0,    0,    0,    0,    0,    0,    0,    0,    0,    0,\n",
       "           0,    0,    0,    0,    0,    0,    0,    0,    0,    0,    0,\n",
       "           0,    0,    0,    0,    0,    0,    0,    0,    0,    0,    0,\n",
       "           0,    0,    0,    0,    0,    0,    0,    0,    0,    0,    0,\n",
       "           0,    0,    0,    0,    0,    0,    0,    0,    0,    0,    0,\n",
       "           0,    0,    0,    0,    0,    0,    0,    0,    0,    0,    0,\n",
       "           0,    0,    0,    0,    0,    0,    0,    0,    0,    0,    0,\n",
       "           0,    0,    0,    0,    0,    0,    0,    0,    0,    0,    0,\n",
       "           0,    0,    0,    0,    0,    0,    0,    0,    0,    0,    0,\n",
       "           0,    0,    0,    0,    0,    0,    0,    0,    0,    0,    0,\n",
       "           0,    0,    0,    0,    0,    0,    0,    0,    0,    0,    0,\n",
       "           0,    0,    0,    0,    0,    0,    0,    0,    0,    0,    0,\n",
       "           0,    0,    0,    0,    0,    0,    0,    0,    0,    0,    0,\n",
       "           0,    0,    0,    0,    0,    0,    0,    0,    0,    0,    0,\n",
       "           0,    0,    0,    0,    0,    0,    0,    0,    0,    0,    0,\n",
       "           0,    0,    0,    0,    0,    0,    0,    0,    0,    0,    0,\n",
       "           0,    0,    0,    0,    0,    0,    0,    0,    0,    0,    0,\n",
       "           0,    0,    0,    0,    0,    0,    0,    0,    0,    0,    0,\n",
       "           0,    0,    0,    0,    0,    0,    0,    0,    0,    0,    0,\n",
       "           0,    0,    0,    0,    0,    0,    0,    0,    0,    0,    0,\n",
       "           0,    0,    0,    0,    0,    0,    0,    0,    0,    0,    0,\n",
       "           0,    0,    0,    0,    0,    0,    0,    0,    0,    0,    0,\n",
       "           0,    0,    0,    0,    0,    0,    0,    0,    0,    0,    0,\n",
       "           0,    0,    0,    0,    0,    0,    0,    0,    0,    0,    0,\n",
       "           0,    0,    0,    0,    0,    0,    0,    0,    0,    0,    0,\n",
       "           0,    0,    0,    0,    0,    0,    0,    0,    0,    0,    0,\n",
       "           0,    0,    0,    0,    0,    0,    0,    0,    0,    0,    0,\n",
       "           0,    0,    0,    0,    0,    0,    0,    0,    0,    0,    0,\n",
       "           0,    0,    0,    0,    0,    0,    0,    0,    0,    0,    0,\n",
       "           0,    0,    0,    0,    0,    0,    0,    0,    0,    0,    0,\n",
       "           0,    0,    0,    0,    0,    0,    0,    0,    0,    0,    0,\n",
       "           0,    0,    0,    0,    0,    0,    0,    0,    0,    0,    0,\n",
       "           0,    0,    0,    0,    0,    0,    0,    0,    0,    0]],\n",
       "      dtype=int64)>"
      ]
     },
     "execution_count": 16,
     "metadata": {},
     "output_type": "execute_result"
    }
   ],
   "source": [
    "import random\n",
    "random_sentence = random.choice(train_sentences)\n",
    "print(f'Original text:\\n {random_sentence}\\\n",
    "        \\n\\nVectorized version:')\n",
    "text_vectorizer([random_sentence])"
   ]
  },
  {
   "cell_type": "code",
   "execution_count": 17,
   "id": "eb0c727d",
   "metadata": {
    "id": "eb0c727d"
   },
   "outputs": [],
   "source": [
    "#get unique vocab\n",
    "words_in_vocab = text_vectorizer.get_vocabulary()\n",
    "top_5_words = words_in_vocab[:5]\n",
    "bottom_5_words = words_in_vocab[-5:]"
   ]
  },
  {
   "cell_type": "code",
   "execution_count": 18,
   "id": "4ad55923",
   "metadata": {
    "colab": {
     "base_uri": "https://localhost:8080/",
     "height": 0
    },
    "id": "4ad55923",
    "outputId": "28f9c0d7-edb8-431c-d695-b53d518e8751"
   },
   "outputs": [
    {
     "data": {
      "text/plain": [
       "['', '[UNK]', 'experience', 'work', 'team']"
      ]
     },
     "metadata": {},
     "output_type": "display_data"
    },
    {
     "data": {
      "text/plain": [
       "['plushazmat', 'planvision', 'piraeus', 'pgi', 'pfd']"
      ]
     },
     "metadata": {},
     "output_type": "display_data"
    }
   ],
   "source": [
    "display(top_5_words)\n",
    "display(bottom_5_words)"
   ]
  },
  {
   "cell_type": "markdown",
   "id": "b5fc220c",
   "metadata": {
    "id": "b5fc220c"
   },
   "source": [
    "### Embeddings"
   ]
  },
  {
   "cell_type": "code",
   "execution_count": 19,
   "id": "3a49bdbb",
   "metadata": {
    "colab": {
     "base_uri": "https://localhost:8080/"
    },
    "id": "3a49bdbb",
    "outputId": "cb378c86-92dc-4f46-f573-ce084b89a3cd"
   },
   "outputs": [
    {
     "data": {
      "text/plain": [
       "<keras.layers.core.embedding.Embedding at 0x18a25e28d08>"
      ]
     },
     "execution_count": 19,
     "metadata": {},
     "output_type": "execute_result"
    }
   ],
   "source": [
    "from tensorflow.keras import layers\n",
    "\n",
    "embedding = layers.Embedding(input_dim = max_vocab_length,\n",
    "                             output_dim = 128,\n",
    "                             input_length = max_length\n",
    "                             )\n",
    "embedding"
   ]
  },
  {
   "cell_type": "code",
   "execution_count": 20,
   "id": "f5f9946c",
   "metadata": {
    "colab": {
     "base_uri": "https://localhost:8080/"
    },
    "id": "f5f9946c",
    "outputId": "f02e60e1-2832-4aab-c9fa-b686f8eb971b"
   },
   "outputs": [
    {
     "name": "stdout",
     "output_type": "stream",
     "text": [
      "Original text:\n",
      " customer service team lead novitex enterprise solution formerly pitney bowes management service delivers innovative document communication management solution help company around world drive business process efficiency increase productivity reduce cost improve customer satisfaction almost year client turned u integrate optimize enterprise wide business process empower employee increase productivity maximize result trusted partner continually focus delivering secure technology enabled document communication solution improve client work process enhance customer interaction drive growth currently seeking customer service team lead right candidate integral part talented team supporting continued growth position located miami fl location responsibility include limited coordinate work customer service associatesrun mail meter equipmenthandle time request day day process teamhelp resolve employee customer concern issuesadministrative service processing large volume report using excel assisting manager quarterly business reviewslift large bundle mail make mail deliveriesprovide amp r dutieshandle time sensitive materialperform duty special request assigned managementbalance workload provide guidance direction team serve focal point communication customer company personnelensure operating quality standard met based service objectivesmaintain accuracy required report log measurementsensure highest level customer careensure adherence business guideline safety amp security proceduresresponsible aspect equipment make appropriate equipment recommendationsprovide constructive feedback recognition teamsupport financial result minimizing site waste rework required qualification experience coordinating deploying work employee requiredminimum year customer service related experience requiredminimum year professional office experience requiredpost office mail previous shipping receiving experience requiredcomputer proficiency email environment m word excel ability resolve employee customer concern issuesability communicate verbally written customer company personnelhigh school diploma equivalent ged ability effectively work individually team environmentability handle multiple project simultaneouslystrong organizational administrative skill requiredability meet employer attendance policyheavy lifting lbsability adhere administer company policy proceduresstanding long period timesignificant walkingwillingness work overtime neededwillingness submit pre employment drug screen criminal background check customer service entry level high school equivalent consumer service        \n",
      "\\Embedded version:\n"
     ]
    },
    {
     "data": {
      "text/plain": [
       "<tf.Tensor: shape=(1, 1000, 128), dtype=float32, numpy=\n",
       "array([[[ 0.0161664 , -0.0259926 , -0.01353864, ...,  0.02392813,\n",
       "         -0.01664685,  0.03907808],\n",
       "        [-0.01587975,  0.00621922,  0.02703896, ...,  0.0134159 ,\n",
       "          0.00272853,  0.01546292],\n",
       "        [-0.00190938,  0.03731246,  0.04735044, ...,  0.02225939,\n",
       "         -0.01828247, -0.03791308],\n",
       "        ...,\n",
       "        [-0.02215651,  0.03696832, -0.01544523, ...,  0.04339678,\n",
       "         -0.00402654, -0.01804077],\n",
       "        [-0.02215651,  0.03696832, -0.01544523, ...,  0.04339678,\n",
       "         -0.00402654, -0.01804077],\n",
       "        [-0.02215651,  0.03696832, -0.01544523, ...,  0.04339678,\n",
       "         -0.00402654, -0.01804077]]], dtype=float32)>"
      ]
     },
     "execution_count": 20,
     "metadata": {},
     "output_type": "execute_result"
    }
   ],
   "source": [
    "import random\n",
    "random_sentence = random.choice(train_sentences)\n",
    "print(f'Original text:\\n {random_sentence}\\\n",
    "        \\n\\Embedded version:')\n",
    "\n",
    "#embed the random sentence (turn it into dense vectors of fixed size)\n",
    "sample_embed = embedding(text_vectorizer([random_sentence]))\n",
    "sample_embed"
   ]
  },
  {
   "cell_type": "code",
   "execution_count": 21,
   "id": "2PHrTz5gJlcw",
   "metadata": {
    "id": "2PHrTz5gJlcw"
   },
   "outputs": [],
   "source": [
    "import numpy as np\n",
    "y_train = np.asarray(train_labels).astype('float32').reshape((-1,1))\n",
    "y_test = np.asarray(test_labels).astype('float32').reshape((-1,1))\n",
    "y_val = np.asarray(val_labels).astype('float32').reshape((-1,1))"
   ]
  },
  {
   "cell_type": "markdown",
   "id": "f9741236",
   "metadata": {
    "id": "f9741236"
   },
   "source": [
    "### ResNet Block"
   ]
  },
  {
   "cell_type": "code",
   "execution_count": 26,
   "id": "372dd0a8",
   "metadata": {},
   "outputs": [],
   "source": [
    "from tensorflow.keras import layers\n",
    "import matplotlib.pyplot as plt\n",
    "from sklearn.metrics import confusion_matrix, classification_report, plot_confusion_matrix\n",
    "\n",
    "SAVE_DIR = \"model_logs_train_val_test\""
   ]
  },
  {
   "cell_type": "code",
   "execution_count": 27,
   "id": "x8d_bP4SIkVh",
   "metadata": {
    "id": "x8d_bP4SIkVh"
   },
   "outputs": [],
   "source": [
    "from models.modified_ResNet import ResNet_Module\n",
    "from models.BiLSTM import BiLSTM_Module"
   ]
  },
  {
   "cell_type": "markdown",
   "id": "af8b7f09",
   "metadata": {
    "id": "jFgdNqPEJavV"
   },
   "source": [
    "### proposed"
   ]
  },
  {
   "cell_type": "code",
   "execution_count": 28,
   "id": "VAQHkPC-Jaxe",
   "metadata": {
    "id": "VAQHkPC-Jaxe"
   },
   "outputs": [
    {
     "name": "stdout",
     "output_type": "stream",
     "text": [
      "Model: \"proposed_model\"\n",
      "__________________________________________________________________________________________________\n",
      " Layer (type)                   Output Shape         Param #     Connected to                     \n",
      "==================================================================================================\n",
      " input_2 (InputLayer)           [(None, 1)]          0           []                               \n",
      "                                                                                                  \n",
      " text_vectorization (TextVector  (None, 1000)        0           ['input_2[0][0]']                \n",
      " ization)                                                                                         \n",
      "                                                                                                  \n",
      " embedding (Embedding)          (None, 1000, 128)    1280000     ['text_vectorization[1][0]']     \n",
      "                                                                                                  \n",
      " conv1d_26 (Conv1D)             (None, 497, 64)      57408       ['embedding[1][0]']              \n",
      "                                                                                                  \n",
      " batch_normalization_26 (BatchN  (None, 497, 64)     256         ['conv1d_26[0][0]']              \n",
      " ormalization)                                                                                    \n",
      "                                                                                                  \n",
      " activation_8 (Activation)      (None, 497, 64)      0           ['batch_normalization_26[0][0]'] \n",
      "                                                                                                  \n",
      " max_pooling1d_1 (MaxPooling1D)  (None, 249, 64)     0           ['activation_8[0][0]']           \n",
      "                                                                                                  \n",
      " conv1d_27 (Conv1D)             (None, 249, 64)      4160        ['max_pooling1d_1[0][0]']        \n",
      "                                                                                                  \n",
      " batch_normalization_27 (BatchN  (None, 249, 64)     256         ['conv1d_27[0][0]']              \n",
      " ormalization)                                                                                    \n",
      "                                                                                                  \n",
      " conv1d_28 (Conv1D)             (None, 249, 64)      12352       ['batch_normalization_27[0][0]'] \n",
      "                                                                                                  \n",
      " batch_normalization_28 (BatchN  (None, 249, 64)     256         ['conv1d_28[0][0]']              \n",
      " ormalization)                                                                                    \n",
      "                                                                                                  \n",
      " conv1d_29 (Conv1D)             (None, 249, 256)     16640       ['batch_normalization_28[0][0]'] \n",
      "                                                                                                  \n",
      " conv1d_30 (Conv1D)             (None, 249, 256)     16640       ['max_pooling1d_1[0][0]']        \n",
      "                                                                                                  \n",
      " batch_normalization_29 (BatchN  (None, 249, 256)    1024        ['conv1d_29[0][0]']              \n",
      " ormalization)                                                                                    \n",
      "                                                                                                  \n",
      " batch_normalization_30 (BatchN  (None, 249, 256)    1024        ['conv1d_30[0][0]']              \n",
      " ormalization)                                                                                    \n",
      "                                                                                                  \n",
      " add_7 (Add)                    (None, 249, 256)     0           ['batch_normalization_29[0][0]', \n",
      "                                                                  'batch_normalization_30[0][0]'] \n",
      "                                                                                                  \n",
      " activation_9 (Activation)      (None, 249, 256)     0           ['add_7[0][0]']                  \n",
      "                                                                                                  \n",
      " conv1d_31 (Conv1D)             (None, 249, 64)      16448       ['activation_9[0][0]']           \n",
      "                                                                                                  \n",
      " batch_normalization_31 (BatchN  (None, 249, 64)     256         ['conv1d_31[0][0]']              \n",
      " ormalization)                                                                                    \n",
      "                                                                                                  \n",
      " conv1d_32 (Conv1D)             (None, 249, 64)      12352       ['batch_normalization_31[0][0]'] \n",
      "                                                                                                  \n",
      " batch_normalization_32 (BatchN  (None, 249, 64)     256         ['conv1d_32[0][0]']              \n",
      " ormalization)                                                                                    \n",
      "                                                                                                  \n",
      " conv1d_33 (Conv1D)             (None, 249, 256)     16640       ['batch_normalization_32[0][0]'] \n",
      "                                                                                                  \n",
      " batch_normalization_33 (BatchN  (None, 249, 256)    1024        ['conv1d_33[0][0]']              \n",
      " ormalization)                                                                                    \n",
      "                                                                                                  \n",
      " add_8 (Add)                    (None, 249, 256)     0           ['batch_normalization_33[0][0]', \n",
      "                                                                  'activation_9[0][0]']           \n",
      "                                                                                                  \n",
      " activation_10 (Activation)     (None, 249, 256)     0           ['add_8[0][0]']                  \n",
      "                                                                                                  \n",
      " conv1d_34 (Conv1D)             (None, 125, 128)     32896       ['activation_10[0][0]']          \n",
      "                                                                                                  \n",
      " batch_normalization_34 (BatchN  (None, 125, 128)    512         ['conv1d_34[0][0]']              \n",
      " ormalization)                                                                                    \n",
      "                                                                                                  \n",
      " conv1d_35 (Conv1D)             (None, 125, 128)     49280       ['batch_normalization_34[0][0]'] \n",
      "                                                                                                  \n",
      " batch_normalization_35 (BatchN  (None, 125, 128)    512         ['conv1d_35[0][0]']              \n",
      " ormalization)                                                                                    \n",
      "                                                                                                  \n",
      " conv1d_36 (Conv1D)             (None, 125, 512)     66048       ['batch_normalization_35[0][0]'] \n",
      "                                                                                                  \n",
      " conv1d_37 (Conv1D)             (None, 125, 512)     131584      ['activation_10[0][0]']          \n",
      "                                                                                                  \n",
      " batch_normalization_36 (BatchN  (None, 125, 512)    2048        ['conv1d_36[0][0]']              \n",
      " ormalization)                                                                                    \n",
      "                                                                                                  \n",
      " batch_normalization_37 (BatchN  (None, 125, 512)    2048        ['conv1d_37[0][0]']              \n",
      " ormalization)                                                                                    \n"
     ]
    },
    {
     "name": "stdout",
     "output_type": "stream",
     "text": [
      "                                                                                                  \n",
      " add_9 (Add)                    (None, 125, 512)     0           ['batch_normalization_36[0][0]', \n",
      "                                                                  'batch_normalization_37[0][0]'] \n",
      "                                                                                                  \n",
      " activation_11 (Activation)     (None, 125, 512)     0           ['add_9[0][0]']                  \n",
      "                                                                                                  \n",
      " conv1d_38 (Conv1D)             (None, 125, 128)     65664       ['activation_11[0][0]']          \n",
      "                                                                                                  \n",
      " batch_normalization_38 (BatchN  (None, 125, 128)    512         ['conv1d_38[0][0]']              \n",
      " ormalization)                                                                                    \n",
      "                                                                                                  \n",
      " conv1d_39 (Conv1D)             (None, 125, 128)     49280       ['batch_normalization_38[0][0]'] \n",
      "                                                                                                  \n",
      " batch_normalization_39 (BatchN  (None, 125, 128)    512         ['conv1d_39[0][0]']              \n",
      " ormalization)                                                                                    \n",
      "                                                                                                  \n",
      " conv1d_40 (Conv1D)             (None, 125, 512)     66048       ['batch_normalization_39[0][0]'] \n",
      "                                                                                                  \n",
      " batch_normalization_40 (BatchN  (None, 125, 512)    2048        ['conv1d_40[0][0]']              \n",
      " ormalization)                                                                                    \n",
      "                                                                                                  \n",
      " add_10 (Add)                   (None, 125, 512)     0           ['batch_normalization_40[0][0]', \n",
      "                                                                  'activation_11[0][0]']          \n",
      "                                                                                                  \n",
      " activation_12 (Activation)     (None, 125, 512)     0           ['add_10[0][0]']                 \n",
      "                                                                                                  \n",
      " conv1d_41 (Conv1D)             (None, 63, 256)      131328      ['activation_12[0][0]']          \n",
      "                                                                                                  \n",
      " batch_normalization_41 (BatchN  (None, 63, 256)     1024        ['conv1d_41[0][0]']              \n",
      " ormalization)                                                                                    \n",
      "                                                                                                  \n",
      " conv1d_42 (Conv1D)             (None, 63, 256)      196864      ['batch_normalization_41[0][0]'] \n",
      "                                                                                                  \n",
      " batch_normalization_42 (BatchN  (None, 63, 256)     1024        ['conv1d_42[0][0]']              \n",
      " ormalization)                                                                                    \n",
      "                                                                                                  \n",
      " conv1d_43 (Conv1D)             (None, 63, 1024)     263168      ['batch_normalization_42[0][0]'] \n",
      "                                                                                                  \n",
      " conv1d_44 (Conv1D)             (None, 63, 1024)     525312      ['activation_12[0][0]']          \n",
      "                                                                                                  \n",
      " batch_normalization_43 (BatchN  (None, 63, 1024)    4096        ['conv1d_43[0][0]']              \n",
      " ormalization)                                                                                    \n",
      "                                                                                                  \n",
      " batch_normalization_44 (BatchN  (None, 63, 1024)    4096        ['conv1d_44[0][0]']              \n",
      " ormalization)                                                                                    \n",
      "                                                                                                  \n",
      " add_11 (Add)                   (None, 63, 1024)     0           ['batch_normalization_43[0][0]', \n",
      "                                                                  'batch_normalization_44[0][0]'] \n",
      "                                                                                                  \n",
      " activation_13 (Activation)     (None, 63, 1024)     0           ['add_11[0][0]']                 \n",
      "                                                                                                  \n",
      " conv1d_45 (Conv1D)             (None, 63, 256)      262400      ['activation_13[0][0]']          \n",
      "                                                                                                  \n",
      " batch_normalization_45 (BatchN  (None, 63, 256)     1024        ['conv1d_45[0][0]']              \n",
      " ormalization)                                                                                    \n",
      "                                                                                                  \n",
      " conv1d_46 (Conv1D)             (None, 63, 256)      196864      ['batch_normalization_45[0][0]'] \n",
      "                                                                                                  \n",
      " batch_normalization_46 (BatchN  (None, 63, 256)     1024        ['conv1d_46[0][0]']              \n",
      " ormalization)                                                                                    \n",
      "                                                                                                  \n",
      " conv1d_47 (Conv1D)             (None, 63, 1024)     263168      ['batch_normalization_46[0][0]'] \n",
      "                                                                                                  \n",
      " batch_normalization_47 (BatchN  (None, 63, 1024)    4096        ['conv1d_47[0][0]']              \n",
      " ormalization)                                                                                    \n",
      "                                                                                                  \n",
      " add_12 (Add)                   (None, 63, 1024)     0           ['batch_normalization_47[0][0]', \n",
      "                                                                  'activation_13[0][0]']          \n",
      "                                                                                                  \n",
      " activation_14 (Activation)     (None, 63, 1024)     0           ['add_12[0][0]']                 \n",
      "                                                                                                  \n",
      " conv1d_48 (Conv1D)             (None, 32, 512)      524800      ['activation_14[0][0]']          \n",
      "                                                                                                  \n",
      " batch_normalization_48 (BatchN  (None, 32, 512)     2048        ['conv1d_48[0][0]']              \n",
      " ormalization)                                                                                    \n",
      "                                                                                                  \n",
      " conv1d_49 (Conv1D)             (None, 32, 512)      786944      ['batch_normalization_48[0][0]'] \n",
      "                                                                                                  \n",
      " batch_normalization_49 (BatchN  (None, 32, 512)     2048        ['conv1d_49[0][0]']              \n",
      " ormalization)                                                                                    \n",
      "                                                                                                  \n",
      " conv1d_50 (Conv1D)             (None, 32, 64)       32832       ['batch_normalization_49[0][0]'] \n",
      "                                                                                                  \n"
     ]
    },
    {
     "name": "stdout",
     "output_type": "stream",
     "text": [
      " conv1d_51 (Conv1D)             (None, 32, 64)       65600       ['activation_14[0][0]']          \n",
      "                                                                                                  \n",
      " batch_normalization_50 (BatchN  (None, 32, 64)      256         ['conv1d_50[0][0]']              \n",
      " ormalization)                                                                                    \n",
      "                                                                                                  \n",
      " batch_normalization_51 (BatchN  (None, 32, 64)      256         ['conv1d_51[0][0]']              \n",
      " ormalization)                                                                                    \n",
      "                                                                                                  \n",
      " add_13 (Add)                   (None, 32, 64)       0           ['batch_normalization_50[0][0]', \n",
      "                                                                  'batch_normalization_51[0][0]'] \n",
      "                                                                                                  \n",
      " activation_15 (Activation)     (None, 32, 64)       0           ['add_13[0][0]']                 \n",
      "                                                                                                  \n",
      " bidirectional_1 (Bidirectional  (None, 128)         98816       ['embedding[1][0]']              \n",
      " )                                                                                                \n",
      "                                                                                                  \n",
      " global_max_pooling1d_1 (Global  (None, 64)          0           ['activation_15[0][0]']          \n",
      " MaxPooling1D)                                                                                    \n",
      "                                                                                                  \n",
      " concatenate_1 (Concatenate)    (None, 192)          0           ['bidirectional_1[0][0]',        \n",
      "                                                                  'global_max_pooling1d_1[0][0]'] \n",
      "                                                                                                  \n",
      " dense_1 (Dense)                (None, 1)            193         ['concatenate_1[0][0]']          \n",
      "                                                                                                  \n",
      "==================================================================================================\n",
      "Total params: 5,275,265\n",
      "Trainable params: 5,258,497\n",
      "Non-trainable params: 16,768\n",
      "__________________________________________________________________________________________________\n"
     ]
    }
   ],
   "source": [
    "from tensorflow.keras import layers\n",
    "from tensorflow import keras\n",
    "inputs = layers.Input(shape=(1,), dtype=\"string\")\n",
    "x = text_vectorizer(inputs)\n",
    "x = embedding(x)\n",
    "\n",
    "block_2 = BiLSTM_block(x)\n",
    "block_1 = ResNet50(x)\n",
    "concatenated_output = keras.layers.Concatenate()([block_2,block_1])\n",
    "\n",
    "# x = embedding(concatenated_output)\n",
    "# x = layers.Bidirectional(layers.LSTM(64))(x)\n",
    "outputs = layers.Dense(1, activation='sigmoid')(concatenated_output)\n",
    "model_proposed = tf.keras.Model(inputs, outputs, name=\"proposed_model\")\n",
    "model_proposed.compile(loss='binary_crossentropy', \n",
    "                optimizer=tf.keras.optimizers.Adam(),\n",
    "                metrics=[\"accuracy\"])\n",
    "\n",
    "model_proposed.summary()"
   ]
  },
  {
   "cell_type": "code",
   "execution_count": 29,
   "id": "93d727af",
   "metadata": {},
   "outputs": [
    {
     "name": "stdout",
     "output_type": "stream",
     "text": [
      "Saving TensorBoard log files to: model_logs_train_val_test/model_proposed/20221122-153923\n",
      "Epoch 1/5\n",
      "453/453 [==============================] - 676s 1s/step - loss: 0.1503 - accuracy: 0.9604 - val_loss: 0.1687 - val_accuracy: 0.9516\n",
      "Epoch 2/5\n",
      "453/453 [==============================] - 645s 1s/step - loss: 0.0422 - accuracy: 0.9857 - val_loss: 0.0928 - val_accuracy: 0.9733\n",
      "Epoch 3/5\n",
      "453/453 [==============================] - 662s 1s/step - loss: 0.0107 - accuracy: 0.9968 - val_loss: 0.0459 - val_accuracy: 0.9863\n",
      "Epoch 4/5\n",
      "453/453 [==============================] - 635s 1s/step - loss: 0.0032 - accuracy: 0.9990 - val_loss: 0.1020 - val_accuracy: 0.9857\n",
      "Epoch 5/5\n",
      "453/453 [==============================] - 635s 1s/step - loss: 0.0063 - accuracy: 0.9977 - val_loss: 0.1264 - val_accuracy: 0.9758\n"
     ]
    }
   ],
   "source": [
    "model_proposed_history = model_proposed.fit(x=train_sentences, \n",
    "                              y=y_train,\n",
    "                              epochs=5,\n",
    "                              validation_data=(val_sentences, y_val),\n",
    "                              callbacks=[create_tensorboard_callback(dir_name=SAVE_DIR,\n",
    "                                                                    experiment_name=\"model_proposed\")])"
   ]
  },
  {
   "cell_type": "code",
   "execution_count": 30,
   "id": "bcca37ca",
   "metadata": {},
   "outputs": [
    {
     "name": "stdout",
     "output_type": "stream",
     "text": [
      "56/56 [==============================] - 16s 260ms/step\n"
     ]
    },
    {
     "data": {
      "text/plain": [
       "{'accuracy': 97.48322147651007,\n",
       " 'precision': 0.9754838547740595,\n",
       " 'recall': 0.9748322147651006,\n",
       " 'f1': 0.9710919154629123}"
      ]
     },
     "execution_count": 30,
     "metadata": {},
     "output_type": "execute_result"
    }
   ],
   "source": [
    "model_proposed_pred_probs = model_proposed.predict(test_sentences)\n",
    "model_proposed_preds = tf.squeeze(tf.round(model_proposed_pred_probs))\n",
    "model_proposed_results = calculate_results(y_true=test_labels,\n",
    "                                    y_pred=model_proposed_preds)\n",
    "model_proposed_results"
   ]
  },
  {
   "cell_type": "code",
   "execution_count": 31,
   "id": "61e3fbe5",
   "metadata": {},
   "outputs": [
    {
     "data": {
      "image/png": "[encoded data removed]",
      "text/plain": [
       "<Figure size 432x288 with 1 Axes>"
      ]
     },
     "metadata": {
      "needs_background": "light"
     },
     "output_type": "display_data"
    },
    {
     "data": {
      "image/png": "[encoded data removed]",
      "text/plain": [
       "<Figure size 432x288 with 1 Axes>"
      ]
     },
     "metadata": {
      "needs_background": "light"
     },
     "output_type": "display_data"
    }
   ],
   "source": [
    "import matplotlib.pyplot as plt\n",
    "## Dense\n",
    "plt.plot(model_proposed_history.history['val_loss'], color='b', label=\"validation loss\")\n",
    "plt.plot(model_proposed_history.history['loss'], color='red', label=\"loss\")\n",
    "plt.title(\"Dense Model Loss\")\n",
    "plt.xlabel(\"Number of Epochs\")\n",
    "plt.ylabel(\"Loss\")\n",
    "plt.legend()\n",
    "plt.show()\n",
    "\n",
    "plt.plot(model_proposed_history.history['val_accuracy'], color='b', label=\"validation accuracy\")\n",
    "plt.plot(model_proposed_history.history['accuracy'], color='red', label=\"accuracy\")\n",
    "plt.title(\"Dense Model Accuracy\")\n",
    "plt.xlabel(\"Number of Epochs\")\n",
    "plt.ylabel(\"Loss\")\n",
    "plt.legend()\n",
    "plt.show()"
   ]
  },
  {
   "cell_type": "code",
   "execution_count": 33,
   "id": "d9183fe1",
   "metadata": {},
   "outputs": [
    {
     "name": "stdout",
     "output_type": "stream",
     "text": [
      "[[1693    0]\n",
      " [  45   50]]\n",
      "              precision    recall  f1-score   support\n",
      "\n",
      "           0       0.97      1.00      0.99      1693\n",
      "           1       1.00      0.53      0.69        95\n",
      "\n",
      "    accuracy                           0.97      1788\n",
      "   macro avg       0.99      0.76      0.84      1788\n",
      "weighted avg       0.98      0.97      0.97      1788\n",
      "\n"
     ]
    }
   ],
   "source": [
    "from sklearn.metrics import confusion_matrix, classification_report, plot_confusion_matrix\n",
    "\n",
    "print(confusion_matrix(test_labels, model_proposed_preds))\n",
    "print(classification_report(test_labels, model_proposed_preds))"
   ]
  },
  {
   "cell_type": "code",
   "execution_count": 32,
   "id": "1b1b6915",
   "metadata": {},
   "outputs": [
    {
     "name": "stderr",
     "output_type": "stream",
     "text": [
      "WARNING:absl:Found untraced functions such as _jit_compiled_convolution_op, _jit_compiled_convolution_op, _jit_compiled_convolution_op, _jit_compiled_convolution_op, _jit_compiled_convolution_op while saving (showing 5 of 30). These functions will not be directly callable after loading.\n"
     ]
    },
    {
     "name": "stdout",
     "output_type": "stream",
     "text": [
      "INFO:tensorflow:Assets written to: saved_models/proposed_model\\assets\n"
     ]
    },
    {
     "name": "stderr",
     "output_type": "stream",
     "text": [
      "INFO:tensorflow:Assets written to: saved_models/proposed_model\\assets\n"
     ]
    }
   ],
   "source": [
    "model_proposed.save('saved_models/proposed_model')"
   ]
  },
  {
   "cell_type": "code",
   "execution_count": 33,
   "id": "0747e028",
   "metadata": {},
   "outputs": [],
   "source": [
    "loaded_2 = keras.models.load_model(\"saved_models/proposed_model\")"
   ]
  },
  {
   "cell_type": "code",
   "execution_count": 34,
   "id": "7a5c7310",
   "metadata": {},
   "outputs": [
    {
     "name": "stdout",
     "output_type": "stream",
     "text": [
      "84/84 [==============================] - 26s 285ms/step\n"
     ]
    },
    {
     "data": {
      "text/plain": [
       "{'accuracy': 98.3221476510067,\n",
       " 'precision': 0.983179523411282,\n",
       " 'recall': 0.9832214765100671,\n",
       " 'f1': 0.9818961460108598}"
      ]
     },
     "execution_count": 34,
     "metadata": {},
     "output_type": "execute_result"
    }
   ],
   "source": [
    "pred_probs = loaded_2.predict(test_sentences)\n",
    "preds = tf.squeeze(tf.round(pred_probs))\n",
    "results = calculate_results(y_true=test_labels,\n",
    "                                    y_pred=preds)\n",
    "results"
   ]
  },
  {
   "cell_type": "code",
   "execution_count": null,
   "id": "76cd2da5",
   "metadata": {},
   "outputs": [],
   "source": []
  }
 ],
 "metadata": {
  "accelerator": "GPU",
  "colab": {
   "collapsed_sections": [
    "e75dc58d",
    "b5fc220c",
    "9d6f0dc0"
   ],
   "provenance": []
  },
  "gpuClass": "standard",
  "kernelspec": {
   "display_name": "Python 3 (ipykernel)",
   "language": "python",
   "name": "python3"
  },
  "language_info": {
   "codemirror_mode": {
    "name": "ipython",
    "version": 3
   },
   "file_extension": ".py",
   "mimetype": "text/x-python",
   "name": "python",
   "nbconvert_exporter": "python",
   "pygments_lexer": "ipython3",
   "version": "3.7.13"
  }
 },
 "nbformat": 4,
 "nbformat_minor": 5
}

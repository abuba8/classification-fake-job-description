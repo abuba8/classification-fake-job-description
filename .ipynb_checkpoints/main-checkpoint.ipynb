{
 "cells": [
  {
   "cell_type": "code",
   "execution_count": 27,
   "id": "2acbe024",
   "metadata": {
    "id": "2acbe024"
   },
   "outputs": [],
   "source": [
    "import pandas as pd\n",
    "from helper_functions import create_tensorboard_callback, calculate_results"
   ]
  },
  {
   "cell_type": "code",
   "execution_count": 3,
   "id": "825d98f5",
   "metadata": {
    "id": "825d98f5"
   },
   "outputs": [],
   "source": [
    "df = pd.read_csv('./pre/df1.csv')"
   ]
  },
  {
   "cell_type": "code",
   "execution_count": 4,
   "id": "28c11872",
   "metadata": {
    "colab": {
     "base_uri": "https://localhost:8080/",
     "height": 465
    },
    "id": "28c11872",
    "outputId": "b7eea948-99b5-42c8-9c4b-2c4e4daf95bd"
   },
   "outputs": [
    {
     "data": {
      "text/plain": [
       "Index(['Unnamed: 0', 'text', 'freu', 'word count'], dtype='object')"
      ]
     },
     "metadata": {},
     "output_type": "display_data"
    },
    {
     "data": {
      "text/html": [
       "<div>\n",
       "<style scoped>\n",
       "    .dataframe tbody tr th:only-of-type {\n",
       "        vertical-align: middle;\n",
       "    }\n",
       "\n",
       "    .dataframe tbody tr th {\n",
       "        vertical-align: top;\n",
       "    }\n",
       "\n",
       "    .dataframe thead th {\n",
       "        text-align: right;\n",
       "    }\n",
       "</style>\n",
       "<table border=\"1\" class=\"dataframe\">\n",
       "  <thead>\n",
       "    <tr style=\"text-align: right;\">\n",
       "      <th></th>\n",
       "      <th>Unnamed: 0</th>\n",
       "      <th>text</th>\n",
       "      <th>freu</th>\n",
       "      <th>word count</th>\n",
       "    </tr>\n",
       "  </thead>\n",
       "  <tbody>\n",
       "    <tr>\n",
       "      <th>0</th>\n",
       "      <td>0</td>\n",
       "      <td>marketing intern marketing food created ground...</td>\n",
       "      <td>0</td>\n",
       "      <td>256</td>\n",
       "    </tr>\n",
       "    <tr>\n",
       "      <th>1</th>\n",
       "      <td>1</td>\n",
       "      <td>customer service cloud video production succes...</td>\n",
       "      <td>0</td>\n",
       "      <td>614</td>\n",
       "    </tr>\n",
       "    <tr>\n",
       "      <th>2</th>\n",
       "      <td>2</td>\n",
       "      <td>commissioning machinery assistant cma valor se...</td>\n",
       "      <td>0</td>\n",
       "      <td>236</td>\n",
       "    </tr>\n",
       "    <tr>\n",
       "      <th>3</th>\n",
       "      <td>3</td>\n",
       "      <td>account executive washington dc sale passion i...</td>\n",
       "      <td>0</td>\n",
       "      <td>495</td>\n",
       "    </tr>\n",
       "    <tr>\n",
       "      <th>4</th>\n",
       "      <td>4</td>\n",
       "      <td>bill review manager spotsource solution llc gl...</td>\n",
       "      <td>0</td>\n",
       "      <td>381</td>\n",
       "    </tr>\n",
       "  </tbody>\n",
       "</table>\n",
       "</div>"
      ],
      "text/plain": [
       "   Unnamed: 0                                               text  freu  \\\n",
       "0           0  marketing intern marketing food created ground...     0   \n",
       "1           1  customer service cloud video production succes...     0   \n",
       "2           2  commissioning machinery assistant cma valor se...     0   \n",
       "3           3  account executive washington dc sale passion i...     0   \n",
       "4           4  bill review manager spotsource solution llc gl...     0   \n",
       "\n",
       "   word count  \n",
       "0         256  \n",
       "1         614  \n",
       "2         236  \n",
       "3         495  \n",
       "4         381  "
      ]
     },
     "metadata": {},
     "output_type": "display_data"
    }
   ],
   "source": [
    "display(df.columns)\n",
    "display(df.head())"
   ]
  },
  {
   "cell_type": "code",
   "execution_count": 5,
   "id": "a74dc4af",
   "metadata": {
    "colab": {
     "base_uri": "https://localhost:8080/"
    },
    "id": "a74dc4af",
    "outputId": "98a4a60e-731e-4c55-d61e-5f1a22af591f"
   },
   "outputs": [
    {
     "data": {
      "text/plain": [
       "count    17880.000000\n",
       "mean       259.217450\n",
       "std        137.289935\n",
       "min          2.000000\n",
       "25%        156.000000\n",
       "50%        245.000000\n",
       "75%        336.000000\n",
       "max       1426.000000\n",
       "Name: word count, dtype: float64"
      ]
     },
     "execution_count": 5,
     "metadata": {},
     "output_type": "execute_result"
    }
   ],
   "source": [
    "df['word count'].describe()"
   ]
  },
  {
   "cell_type": "code",
   "execution_count": 6,
   "id": "2d8ea25b",
   "metadata": {
    "colab": {
     "base_uri": "https://localhost:8080/",
     "height": 121
    },
    "id": "2d8ea25b",
    "outputId": "195052e0-b2c2-44bf-9821-50b5f635f516"
   },
   "outputs": [
    {
     "data": {
      "text/plain": [
       "0    17014\n",
       "1      866\n",
       "Name: freu, dtype: int64"
      ]
     },
     "metadata": {},
     "output_type": "display_data"
    }
   ],
   "source": [
    "display(df.freu.value_counts())"
   ]
  },
  {
   "cell_type": "code",
   "execution_count": 7,
   "id": "bf8e1697",
   "metadata": {
    "colab": {
     "base_uri": "https://localhost:8080/",
     "height": 122
    },
    "id": "bf8e1697",
    "outputId": "e2d52a32-4adf-4563-f388-3f22312970eb"
   },
   "outputs": [
    {
     "data": {
      "text/plain": [
       "'marketing intern marketing food created groundbreaking award winning cooking site support connect celebrate home cook give everything need one place top editorial business engineering team focused using technology find new better way connect people around specific food interest offer superb highly curated information food cooking attract talented home cook contributor country also publish well known professional like mario batali gwyneth paltrow danny meyer partnership whole food market random house food named best food website james beard foundation iacp featured new york time npr pando daily techcrunch today show located chelsea new york city food fast growing james beard award winning online food community crowd sourced curated recipe hub currently interviewing full part time unpaid intern work small team editor executive developer new york city headquarters reproducing repackaging existing food content number partner site huffington post yahoo buzzfeed various content management systemsresearching blog website provision food affiliate programassisting day day affiliate program support screening affiliate assisting affiliate inquiriessupporting pr amp event neededhelping office administrative work filing mailing preparing meetingsworking developer document bug suggest improvement sitesupporting marketing executive staff experience content management system major plus blogging count familiar food editorial voice aestheticloves food appreciates importance home cooking cooking seasonsmeticulous editor perfectionist obsessive attention detail maddened typo broken link delighted finding fixing themcheerful pressureexcellent communication skillsa multi tasker juggler responsibility big smallinterested engaged social medium like twitter facebook pinterestloves problem solving collaborating drive food forwardthinks big picture pitch nitty gritty running small company dish shopping administrative support comfortable reality working startup call evening weekend working long hour marketing internship'"
      ]
     },
     "execution_count": 7,
     "metadata": {},
     "output_type": "execute_result"
    }
   ],
   "source": [
    "df.text.iloc[0]"
   ]
  },
  {
   "cell_type": "code",
   "execution_count": 8,
   "id": "a535924d",
   "metadata": {
    "id": "a535924d"
   },
   "outputs": [],
   "source": [
    "from sklearn.model_selection import train_test_split"
   ]
  },
  {
   "cell_type": "code",
   "execution_count": 9,
   "id": "5d7eca4d",
   "metadata": {
    "id": "5d7eca4d"
   },
   "outputs": [],
   "source": [
    "train_sentences, test_sentences, train_labels, test_labels = train_test_split(df['text'].to_numpy(),\n",
    "                                                                              df['freu'].to_numpy(),\n",
    "                                                                              test_size = 0.15,\n",
    "                                                                              random_state=42)"
   ]
  },
  {
   "cell_type": "code",
   "execution_count": 10,
   "id": "a26da417",
   "metadata": {
    "colab": {
     "base_uri": "https://localhost:8080/"
    },
    "id": "a26da417",
    "outputId": "1d6f7634-2881-4097-9268-e01f8454e5b4"
   },
   "outputs": [
    {
     "data": {
      "text/plain": [
       "(15198, 2682, 15198, 2682)"
      ]
     },
     "execution_count": 10,
     "metadata": {},
     "output_type": "execute_result"
    }
   ],
   "source": [
    "len(train_sentences), len(test_sentences), len(train_labels), len(test_labels)"
   ]
  },
  {
   "cell_type": "code",
   "execution_count": 11,
   "id": "f7c35110",
   "metadata": {
    "colab": {
     "base_uri": "https://localhost:8080/"
    },
    "id": "f7c35110",
    "outputId": "dda90d11-f312-44f5-8e6b-8e2f1c758a6f"
   },
   "outputs": [
    {
     "data": {
      "text/plain": [
       "(array(['branch manager westview financial service located hampton va full time branch manager position available immediately office provides personal loan one one approach looking individual join team assist managing office duty position include limited manage branch operation ensuring compliance business policy proceduresdrive branch performance successfully achieve branch profitability business goalsgenerate new business companyretain customer base managing loan portfoliosell loan insurance productsreview credit application make loan decision regarding applicant credit worthinessclose service loansoversee collection process determining course action delinquent accountstrain staff includes ensuring knowledgeable regarding loan collection process well understanding various insurance product offeredthe qualification position college degree b ba coursework business preferred equivalent work experiencethree five year experience directly related sale finance preferred one year previous management experiencestrong sale customer service skill must sale customer service orientedstrong verbal written skill requiredproficiency excel microsoft wordability train develop motivate staffstrong organizational skillsmust able multi task flexible regarding schedule workloada self starter work minimal supervisionmust solution oriented individualability work well othersthe hour position follows monday pmtuesday pmwednesday pmthursday pmfriday pmwe offer competitive salary well comprehensive benefit package including vacation hour month employment vacation hour year employment paid holidayspaid personal sick leave first day month following three month employmenthealth dental life disability insurance well aflac supplemental insurancea k plan company match month employment however quarterly enrollment period interested candidate may submit resume salary requirement via email email e c cc ed b b dc ed dc fax may submitted human resource department phone f c f bb bb f f fa f b b westview financial service equal opportunity employer aspect employment without regard race age sex marital status religion disability military status characteristic status protected law qualification position college degree b ba coursework business preferred equivalent work experiencethree five year experience directly related sale finance preferred one year previous management experiencestrong sale customer service skill must sale customer service orientedstrong verbal written skill requiredproficiency excel microsoft wordability train develop motivate staffstrong organizational skillsmust able multi task flexible regarding schedule workloada self starter work minimal supervisionmust solution oriented individualability work well others company offer competitive salary plus bonus well comprehensive benefit package full time employee including vacation hour month employment vacation hour year employment paid holiday well anniversary holiday benefitpaid personal sick leave day employmenthealth dental life disability insurance well aflac supplemental insurancea k plan company match six month employment however quarterly enrollment period management mid senior level bachelor degree financial service',\n",
       "        'customer service associate customer service highly professional office great people mindwireless everyone move fast expect member team willing go extra mile support client also know fun team move smoothly one fire next without getting singed stay calm cool collected even busiest day highly reliable view glass half full sound like well could mindwireless customer service associate mindwireless leading wireless telecom management firm work fortune large enterprise help company buy wireless service already using le money customer service professional daily contact client providing solution variety question received via phone email business business customer service apply respond opportunity please following send resume send salary history send salary requirement include writing sample least word describing favorite activity indicate read entire post fail address item resume considered ft available team member typically start base level must prove move improved status come proven performance sale position previous help desk experience plus service related technical college degree equivalent work experience required excellent customer service communication skill must highly proficient m excel word basic computer internet skill wireless technology industry experience plus must available work schedule within service hour pm monday friday trouble team player getting work time every day bother applying expect highest level performance team member speak french spanish portuguese fluency necessary business let u know offer competitive starting salary benefit team member great working environment employee benefit include generously subsided healthcare medical dental vision life insurance free garage parkin customer service bachelor degree consumer service',\n",
       "        'vp product founded early linkedin employee peoplelinx gamifies employee engagement linkedin twitter social network cloud based solution help employee optimize profile establish credibility leverage relationship get warmer introduction engage connection targeted content attract prospect customer include fortune leader banking insurance legal high tech professional service find u real world web market st suite philadelphia pa phone f f e f cb f fa e df c fd f e e de f email bb de eda bc e b caa faa e url bca c bd e e e ee c eb f url fcf fe c b cdab fa ca ab f e eebec url fcf aae e f ca f f eef e fc vp product management responsible design peoplelinx product including ongoing enhancement role requires strategic thinking great communication skill ability bring technology together business requirement product outstanding execution role report directly ceo specific responsibility include leading product vision strategy development process analyzing planning prioritizing managing product feature requirement conceptual stage product life cyclesperforming market research market validation whitespace analysis identify new opportunity existing new productsfostering close relationship key market constituent customer prospect partner analyst validate product strategy roadmapanalyzing competitive landscape long term market trend developing creative solution peoplelinx maintain sustainable differentiationcollaborating vp engineering engineering team ensure consistent execution product plan result product delivery time budgetcommunicating product strategy roadmap priority rest company clear persuasive way bachelor degree master preferable year product management leadership experience enterprise software experience building launching software application saas environmentleadership experience helping least one technology startup achieve annual revenue least million excellent people leader passion recruiting developing retaining world class teamsstrong team player proven ability work effectively influence engineering sale marketing service supportat least year direct experience working enterprise crm system url fb e f f f f b c microsoft dynamic least year direct experience working apis data intensive solution use predictive analytics drive business result opportunity work extremely cohesive high energy play hard work hard teamthe experience involved high performing growth stage companydelivering value client company via essential software web applicationscompetitive compensation including stock option free gym membershipfoosball pingpong product management mid senior level information technology service',\n",
       "        'lead ui ux designer boston consulting group url e e aa ee ad bb f dad b cf dc e launched new digital business bcg digital venture url ff b cf e b e c e c df e f db e digital innovation product development commercialization firm first kind firm bring unique capability create grow disruptive digital product platform bcg digital venture go beyond providing consulting design technology service form strategic venture team client order rapidly develop launch grow transformational digital product platform business boston consulting group bcg global management consulting firm world leading advisor business strategy bcg partner client private public profit sector region identify highest value opportunity address critical challenge transform enterprise bcg founded privately owned firm employee across office country integrity respect individual delivering value making impact society bcg core value bcg commitment client success standard set bcg apart world class professional service organization company bcg digital venture url ff b cf e b e c e c df e f db e boston consulting group url e e aa ee ad bb f dad b cf dc e launched new digital business bcg digital venture url ff b cf e b e c e c df e f db e digital innovation product development commercialization firm first kind firm bring unique capability create grow disruptive digital product platform bcg digital venture go beyond providing consulting design technology service form strategic venture team client order rapidly develop launch grow transformational digital product platform business boston consulting group bcg global management consulting firm world leading advisor business strategy bcg partner client private public profit sector region identify highest value opportunity address critical challenge transform enterprise bcg founded privately owned firm employee across office country integrity respect individual delivering value making impact society bcg core value bcg commitment client success standard set bcg apart world class professional service organization opportunity lead ui ux designer developer architectbcg looking exemplary lead ui ux professional passionate designing product user interface help drive rapid growth bcg digital venture ui ux professional help bcg client imagine bring life launch digital business solution bcg looking hire world class business strategy product design technology professional deep knowledge experience digital business solution mobile application ecommerce new emerging digital solution yet realized lead member ui ux team would guide team execute project concept completion leveraging expertise investigative research ideation concept development wire framing digital rapid prototyping technology vendor management communication client product creation organization client technology enablement department specifically leverage world class user experience graphic design methodology help imagine new human centered user experience product service collaborative problem solving multidisciplinary team lead motivate team encouraging collaboration helping member achieve goalsserve key contributor lead primary research trend analysis conceptual ideation digital prototype ui ux specification contribute bcg thought leadership ui ux transmedia design approach strategic innovation best practice navigate multidisciplinary input constructive feedback ensure digital product balance compelling visual design great consumer experience create design solution address primary user well business goal lead end end design large scale project focus user centered design approach refine maintain enforce best class design guideline strategy adeptly handle changing priority throughout product life cycle partner technology team ensure bcg leverage scale offered platform without compromising core experiential principle work strategically present design solution wide variety team department requirement competency personal attributeseducation undergraduate degree graphic transmedia design industrial design web design human factor hci visual art related master advanced degree highly preferred experience year experience designing documenting user experience experience leading team designer executing strict deadline year experience graphic ux ui transmedia design deep knowledge design visual theory e typography color theory composition iconography etc online digital portfolio demonstrates strong graphic design compelling user experience across diverse range project demonstrated knowledge information architecture interaction flow user interface visual design expert skill level analog visual communication adobe creative suite photoshop illustrator design firework balsamiq omnigraffle solid understanding web mobile design principle best use current web mobile technology scalable dynamic user interface knowledge open source transmedia toolkits e g arduinos sensor effector etc agility prototype interaction experiment plus posse passion digital product service mastery organizing information developing impactful experience concept designing advanced layout interaction thing digital demonstrated success project execution delivery ongoing project communicationstrong written verbal interpersonal communication skill self motivated take initiative posse creative problem solving skill willingness offer suggestion improvement able build effective relationship leverage resourcesproven diligence attention detail technical intuition service oriented flexible positive team player capable interacting problem solving multidisciplinary team organized composed professional able handle competing priority work effectively challenging fast paced environment exercise judgment managing confidential sensitive information trustworthy ethical posse highest level character value must able thrive fast paced intellectually intense service oriented environment interpret rule guideline flexibly enhance business keeping bcg value cultureproven experience working successfully within complex matrix structured organization essentialit necessary ability understand manage complex reporting relationship incorporate multiple labor law culture bcg digital venture bcg bcg career growthworking bcgmeet bcgersfaq top fortune best company work staff proud part bcg alumnus recommend bcg place workbcg work fortune company mid senior level bachelor degree design',\n",
       "        'fleet operation manager technical staffing service sg recruitment pay roll service country logistics vendor managed service specialist staff anywhere world wherever operation based need recruit best manpower resource available technical staffing service take global approach operates network office laboratory around world country local office able provide specialist support respond changing demand local market whilst part global network provide specialist knowledge international oil gas petrochemical inspection refinery lng pipeline shipbuilding industry client predominantly major operating company subsurface consultancy international epc engineering company recruitment service delivery team strives provide best blend technical professional add value service project contract permanent recruitment pay roll country logistics vendor managed service specialist staff anywhere world technical staffing service offer cost effective recruitment solution tailored specifically need result act partner supplying specialist across globe use technical staffing service sg offer year experience providing highly specialized technical recruitment contract management payroll service client across globe result unique expertise reach resource access best technical personnel extensive global database social medium recruitment technologiesbenefit truly global reach enables u understand local challenge ability apply global solution provide specialized local expatriate technical personnel wherever whenever requiredtrusted technical staffing service one world leading suppliersour technical staffing service provides combination project management support third party vendor inspection recruitment selection global operator strong local network one world trusted oil gas technical recruitment partner provide dedicated highly skilled personnel broad range discipline industry oil amp gas exploration productionsubsurfacedrilling well servicesproject inspection service refinerylngpipelinepetrochemicalenergy power conventionalrenewablesnuclearproject inspection service marine shipbuildingnaval structuralproject inspection service construction infrastructure buildingarchitecturalcivil structuralother pharmaceuticaltelecommunicationsour technical staffing service include contract leasing recruitmentpermanent headhunting recruitmentproject management solutionsmanaged service providercontract management supportpay rolling tax compliant servicesin country logistics managing flight work permit visa accommodation local transportationcontact technical staffing team today discover provide cost saving solution service fleet operation manager responsible overseeing activity relative running fleet vehicle company includes recruitment staffing training management administrative system reporting budgeting vendor contract dealership relation maintaining company fleet optimal running condition position based accrathe responsibility office shall include limited following plan schedule directs operation vehicle repair shop develops maintains effective shop safety performance standard policy procedure assures accuracy contractor shop part inventory develops oversees section budget directs service repair preventive maintenance company fleet vehicle develops implement supervises preventive maintenance program periodically review repair work procedure ensure accuracy completeness efficiency recommends vehicle replacement prepares specification advice management auction disposal company vehicle necessary investigates motor vehicle accident negotiates settlement collect damage authorizes repair company fleet vehicle plan administers preventive maintenance vehicular replacement program prepares cost analysis periodic management operational report review purchase request code various invoice existing company software new replacement vehicle conduct periodic inspection fleet vehicle workshop ensure adhereence contractual provision company policy procedure done submit quarterly report management maintain knowledge compliance company policy standard operating procedure document appropriate workplace ensuring vehicle policy adhered employee participate company initiative including performance assessment improvement development process accordance approved company program report accident incident damage breakdown safety environmental hazard community complaint management timely manner assist business planning budget preparation process including budget review session business plan submission presentation become familiar strictly adhere company health safety environmental standard act role model complying supporting standard practice degree equivalent mechanical engineering automotive engineering year automotive experience operation management capacity including two year supervisory experience automotive maintenance repair vehicular fleet operation excellent fleet management experience good defensive driver acumen must good oil product vehicle inspection delivery procedure knowledge knowledge microsoft office suit including word excel excellent communication skill vehicle tracking experience valid driver license excellent driving experience attractive package commensurate position mid senior level bachelor degree oil energy',\n",
       "        'team lead solution consulting business analyst software product solution want part nz success story going place want hand developing product proud driven ambitious technology business vision deliver revolutionary transactional self service product make people wonder ever lived without designed new zealand exported across world product enviable history delivering smart robust technology solution oil gas retail sector developed many first world product embarking next strategic horizon exciting challenging time ahead type role recruit embedded application engineersmechanical hardware production engineerssoftware developer particularly java dev payment experience product architectsqa amp compliance including test analyst test engineer project manager software hardware solution consultant business analyst plus much much morewe believe importance living breathing company value passionate say straight creative team player quality make win win people matter u lead inspire global solution teammixed role primarily business analysis pre sale element account managementnurture strengthen customer relationshipswe driven ambitious technology business vision deliver revolutionary transactional self service product make people wonder ever lived without designed new zealand exported across world product enviable history delivering smart robust technology solution developed many first world product long history innovative site automation solution embarking next strategic horizon implementing cloud mobile strategy retain leadership recognised innovation exciting challenging time ahead passionate straight approach competent ability skill experience ensure say people matter inspired motivate lead manage team professional provide best class solution quality product invenco enable u win addition leading team happy roll sleeve get stuck comfortable working across sdlc customer facing role using knowledge gained pre sale engagement preparation proposal key focus business analysis activity working closely invenco technical team deliver quality solution meet customer requirement business objective going customer involvement following solution delivery strengthen customer relationship enable identify new opportunity within account communication skill ability build sustain relationship key within role excellent command written spoken english ease discussion customer non technical technical people adept facilitating influencing workshop discussion stakeholder timely delivery requirement document proposal mention ensuring customer current future need understood determine ideal solution core requirement role successful role need provide evidence relevant tertiary qualification ideally year experience similar role preferably within vendor payment sector motivating leading professional service teamstrong commercial experience creating proposal customersexperience working within agile environmentstrong technical business analysis skill analysing market customer need designing solutionsability facilitate meeting influence decisionsmulti industry technology experience consulting service designing system within baking telecommunication retail environmentsexperience working multi disciplinary cross cultural geographically distributed teamsa passion customer serviceexcellent communication skill written verbalability travel requiredadded bonus domain knowledge exciting growth phase would like opportunity work organisation skill performance recognised organisation belief investing learning development would like hear city fringe location based ponsonbyemployee wellbeing programme active social clubperformance based pay training development opportunity challenging work flexible work hour paid birthday leave discounted medical insurance discounted gym membership cafe discount access eap service believe importance living company value passionate say straight creative team player quality make win win people matter u sound like want work passionate group people work hard get project across line need done deliver successfully fun apply today url f b bd bbbe dcef f fa e c ec cd business analyst mid senior level bachelor degree information technology service',\n",
       "        'corporate sale broker relationshi sale risei consultancy mid sized firm working recruitment experience yr industry jd relationship building profile achieving sale target coordinating existing broker key responsibility responsible managing client grc engagement responsible driving client account plan including new solution service offered existing new client responsible people management team risk advisory professional responsible continuous improvisation grc deliverable solution innovation key area strength extensive knowledge risk control compliance engagement including latest workflow automation procedure expertise handling sa amp sox related engagement unique knowledge amp skill experience working latest grc tool platform experience leading large size team especially virtual team advantage strong project management skill excellent communication negotiation presentation skill excellent knowledge control compliance framework',\n",
       "        'senior database expert tech hello worldtalents drive change digital recruitment develops best quality filter selection top talent fast growing company specialized data analytics business intelligence collaborator based office brussels johannesburg luxembourg sao paolo duba real impact provides innovative data analytics solution consulting service telecommunication banking sector europe africa middle east latin america offer dynamic work environment entrepreneurship creativity innovation main core value new challenge fast growing analytics company senior database expert charge technical analysis project guided analytics data integrationdata modeling development management datawarehouse underlying databasenew product development different technology data mining database etl data visualization tool collaboration solution implementation different countriesparticipation management process design integrate analytical product action oriented processesproviding maintenance support client know sql experience oracle g etl software preferably informatica fluent englishyou least year experience related fieldyou flexible ready travel time needed preferably willing relocate brussels belgiumknowledge statistic etl software programming languagesdealing big volume datayou domain specific understanding industry telecom amp financial institution key analytics innovator serving telco banking retail playerswe work intriguing problem big unstructured data setswe tap richest data flow move business new directionswe see impact work real life report silo swe proud highly entrepreneurial pleasant work environment fast growing companywe offer flex hour place emphasis autonomy career advancementwe highly talented international team top notch expert data hacker analyst communicator trustworthy advisor one mid senior level',\n",
       "        'english teacher abroad help teacher get safe amp secure job abroad play kid get paid love travel job asia usd monthly cost living housing provided private furnished airfare reimbursedexcellent student loan credit cardsgabriel adkins url ed c b f e cdb decc dd cfd f url db f c db e c fc ab ea ac b f e b month contract apply today university degree required tefl tesol celta teaching experience preferred necessarycanada u passport holder see job description bachelor degree education management',\n",
       "        'io developer tech hello worldtalents drive change digital recruitment develops best quality filter selection top talent efficient motivating way become athletic anywhere anytime weight machine athlete receive training plan connect compare workout time via app website count registered user around globe thousand every day growing rapidly beginning hard work passion awesome team chance life looking io developer full time headquater munich responsibility play critical role design planning development deployment appscreate new feature using latest technology create state art experiencecollaborate share knowledge fellow team memberswrite unit test ensure quality codeanalyze resolve technical application problemstake part developing app st century profound knowledge experience regarding io development generaldeveloped apps using web service preferably rest jsonyou deliver clean well documented codeexperience test driven developmentaffinity towards user experience driven developmentan eye great user friendly designyou love work small team take responsibility first day working u high impact responsibility successful fast growing companya team smart extremely motivated co workersthe chance playing crucial role part something really bigself fulfillment fun great atmosphereno wall limit bureaucracy unlimited potentialattractive compensationsocial activity food drink event team training engineering associate health wellness fitness'],\n",
       "       dtype=object),\n",
       " array([0, 0, 0, 0, 0, 0, 0, 0, 0, 0], dtype=int64))"
      ]
     },
     "execution_count": 11,
     "metadata": {},
     "output_type": "execute_result"
    }
   ],
   "source": [
    "train_sentences[:10], train_labels[:10]"
   ]
  },
  {
   "cell_type": "markdown",
   "id": "e75dc58d",
   "metadata": {
    "id": "e75dc58d"
   },
   "source": [
    "### Tokenization"
   ]
  },
  {
   "cell_type": "code",
   "execution_count": 12,
   "id": "d238b594",
   "metadata": {
    "id": "d238b594"
   },
   "outputs": [],
   "source": [
    "import tensorflow as tf\n",
    "from tensorflow.keras.layers.experimental.preprocessing import TextVectorization\n",
    "\n",
    "max_vocab_length = 10000\n",
    "max_length = 1000\n",
    "\n",
    "text_vectorizer = TextVectorization(max_tokens = max_vocab_length, #how many words in vocab, if none there is no cap\n",
    "                                    output_mode = 'int', #how to map tokens to numbers\n",
    "                                    output_sequence_length = max_length, #batch length/sequence length, auto pads to max length\n",
    "                                   )"
   ]
  },
  {
   "cell_type": "code",
   "execution_count": 13,
   "id": "e533308e",
   "metadata": {
    "id": "e533308e"
   },
   "outputs": [],
   "source": [
    "text_vectorizer.adapt(train_sentences)"
   ]
  },
  {
   "cell_type": "code",
   "execution_count": 14,
   "id": "9d67b4a8",
   "metadata": {
    "id": "9d67b4a8"
   },
   "outputs": [],
   "source": [
    "sample = \"there's a flood in my street!\"\n",
    "# text_vectorizer([sample])"
   ]
  },
  {
   "cell_type": "code",
   "execution_count": 15,
   "id": "71ebff49",
   "metadata": {
    "colab": {
     "base_uri": "https://localhost:8080/"
    },
    "id": "71ebff49",
    "outputId": "34dcc4d5-8abd-4ac9-f0af-f77c2c7e0c9f"
   },
   "outputs": [
    {
     "name": "stdout",
     "output_type": "stream",
     "text": [
      "Original text:\n",
      " account manager client success namely leading end end hr payroll platform growing company offering include human payroll benefit administration time management human capital management performance management employee engagement addition company assigned account manager available ongoing support training namely feature namely used world innovative exciting company many industry including medium technology commerce professional service namely hr platform company serious growth client get hr software get cloud based complete platform manage entire company past growing company depended multiple system manage hr task contrast namely offer end end integrated platform employee manager remember one login take care hr need work u think big growing enterprise wide solution expanding amazing team know people equally important product treat people like grownup perk expect made ny startup believe product live value team client success dedicated client made account manager support client onboarding activation day day activity key point contact namely client able multi task self starter extremely client focused basic working day day named account account activation day day activity need develop expertise namely platform practice advise client industry standard well best use namely detail experience supporting implementing hr talent management solution experience hr payroll amp talent management excellent verbal written skill analytical problem solving skill associate bachelor degree information technology service        \n",
      "\n",
      "Vectorized version:\n"
     ]
    },
    {
     "data": {
      "text/plain": [
       "<tf.Tensor: shape=(1, 1000), dtype=int64, numpy=\n",
       "array([[ 128,   58,   13,  163, 2631,  154,  172,  172,  346, 1148,  103,\n",
       "          83,    6,  494,  112,  373, 1148,   82,  627,   22,   18,  373,\n",
       "         564,   18,  133,   18,   65,  592,  782,    6,  399,  128,   58,\n",
       "         220,  797,   44,   84, 2631,  534, 2631,  622,   62,  209,  318,\n",
       "           6,  264,   64,   51,   71,   19,  988,   59,    5, 2631,  346,\n",
       "         103,    6, 2375,   96,   13,   93,  346,   37,   93,  500,   53,\n",
       "         458,  103,  147, 1012,    6, 1129,   83,    6,    1,  224,   49,\n",
       "         147,  346,  170, 9830, 2631,   76,  172,  172,  811,  103,   65,\n",
       "          58, 4887,   66, 9147,  125,  107,  346,   54,    3,   31,  438,\n",
       "         309,   83,  242,  414,   32,  849,  621,    4,  267,   34, 2786,\n",
       "         589,   14, 2024,   34,   87,    1,  944,  922,  594, 1653,  187,\n",
       "         285,   14,  543,  141,    4,   13,  163,  554,   13,  594,  128,\n",
       "          58,   44,   13, 2390, 4169,   74,   74,  225,  179,  493,  328,\n",
       "        2631,   13,   89,  342,  170,  234,  866, 1248,   13,  437,  452,\n",
       "          24,   74,   74, 2139,  128,  128, 4169,   74,   74,  225,   54,\n",
       "         110,  386, 2631,  103,  198, 2523,   13,   64,  205,   60,   73,\n",
       "         156, 2631,  250,    2,  537,  935,  346,  292,   18,   32,    2,\n",
       "         346, 1148,   23,  292,   18,  102,  281,  150,   15,  523,  115,\n",
       "         408,   15,  162,   90,   40,   57,   19,    5,    0,    0,    0,\n",
       "           0,    0,    0,    0,    0,    0,    0,    0,    0,    0,    0,\n",
       "           0,    0,    0,    0,    0,    0,    0,    0,    0,    0,    0,\n",
       "           0,    0,    0,    0,    0,    0,    0,    0,    0,    0,    0,\n",
       "           0,    0,    0,    0,    0,    0,    0,    0,    0,    0,    0,\n",
       "           0,    0,    0,    0,    0,    0,    0,    0,    0,    0,    0,\n",
       "           0,    0,    0,    0,    0,    0,    0,    0,    0,    0,    0,\n",
       "           0,    0,    0,    0,    0,    0,    0,    0,    0,    0,    0,\n",
       "           0,    0,    0,    0,    0,    0,    0,    0,    0,    0,    0,\n",
       "           0,    0,    0,    0,    0,    0,    0,    0,    0,    0,    0,\n",
       "           0,    0,    0,    0,    0,    0,    0,    0,    0,    0,    0,\n",
       "           0,    0,    0,    0,    0,    0,    0,    0,    0,    0,    0,\n",
       "           0,    0,    0,    0,    0,    0,    0,    0,    0,    0,    0,\n",
       "           0,    0,    0,    0,    0,    0,    0,    0,    0,    0,    0,\n",
       "           0,    0,    0,    0,    0,    0,    0,    0,    0,    0,    0,\n",
       "           0,    0,    0,    0,    0,    0,    0,    0,    0,    0,    0,\n",
       "           0,    0,    0,    0,    0,    0,    0,    0,    0,    0,    0,\n",
       "           0,    0,    0,    0,    0,    0,    0,    0,    0,    0,    0,\n",
       "           0,    0,    0,    0,    0,    0,    0,    0,    0,    0,    0,\n",
       "           0,    0,    0,    0,    0,    0,    0,    0,    0,    0,    0,\n",
       "           0,    0,    0,    0,    0,    0,    0,    0,    0,    0,    0,\n",
       "           0,    0,    0,    0,    0,    0,    0,    0,    0,    0,    0,\n",
       "           0,    0,    0,    0,    0,    0,    0,    0,    0,    0,    0,\n",
       "           0,    0,    0,    0,    0,    0,    0,    0,    0,    0,    0,\n",
       "           0,    0,    0,    0,    0,    0,    0,    0,    0,    0,    0,\n",
       "           0,    0,    0,    0,    0,    0,    0,    0,    0,    0,    0,\n",
       "           0,    0,    0,    0,    0,    0,    0,    0,    0,    0,    0,\n",
       "           0,    0,    0,    0,    0,    0,    0,    0,    0,    0,    0,\n",
       "           0,    0,    0,    0,    0,    0,    0,    0,    0,    0,    0,\n",
       "           0,    0,    0,    0,    0,    0,    0,    0,    0,    0,    0,\n",
       "           0,    0,    0,    0,    0,    0,    0,    0,    0,    0,    0,\n",
       "           0,    0,    0,    0,    0,    0,    0,    0,    0,    0,    0,\n",
       "           0,    0,    0,    0,    0,    0,    0,    0,    0,    0,    0,\n",
       "           0,    0,    0,    0,    0,    0,    0,    0,    0,    0,    0,\n",
       "           0,    0,    0,    0,    0,    0,    0,    0,    0,    0,    0,\n",
       "           0,    0,    0,    0,    0,    0,    0,    0,    0,    0,    0,\n",
       "           0,    0,    0,    0,    0,    0,    0,    0,    0,    0,    0,\n",
       "           0,    0,    0,    0,    0,    0,    0,    0,    0,    0,    0,\n",
       "           0,    0,    0,    0,    0,    0,    0,    0,    0,    0,    0,\n",
       "           0,    0,    0,    0,    0,    0,    0,    0,    0,    0,    0,\n",
       "           0,    0,    0,    0,    0,    0,    0,    0,    0,    0,    0,\n",
       "           0,    0,    0,    0,    0,    0,    0,    0,    0,    0,    0,\n",
       "           0,    0,    0,    0,    0,    0,    0,    0,    0,    0,    0,\n",
       "           0,    0,    0,    0,    0,    0,    0,    0,    0,    0,    0,\n",
       "           0,    0,    0,    0,    0,    0,    0,    0,    0,    0,    0,\n",
       "           0,    0,    0,    0,    0,    0,    0,    0,    0,    0,    0,\n",
       "           0,    0,    0,    0,    0,    0,    0,    0,    0,    0,    0,\n",
       "           0,    0,    0,    0,    0,    0,    0,    0,    0,    0,    0,\n",
       "           0,    0,    0,    0,    0,    0,    0,    0,    0,    0,    0,\n",
       "           0,    0,    0,    0,    0,    0,    0,    0,    0,    0,    0,\n",
       "           0,    0,    0,    0,    0,    0,    0,    0,    0,    0,    0,\n",
       "           0,    0,    0,    0,    0,    0,    0,    0,    0,    0,    0,\n",
       "           0,    0,    0,    0,    0,    0,    0,    0,    0,    0,    0,\n",
       "           0,    0,    0,    0,    0,    0,    0,    0,    0,    0,    0,\n",
       "           0,    0,    0,    0,    0,    0,    0,    0,    0,    0,    0,\n",
       "           0,    0,    0,    0,    0,    0,    0,    0,    0,    0,    0,\n",
       "           0,    0,    0,    0,    0,    0,    0,    0,    0,    0,    0,\n",
       "           0,    0,    0,    0,    0,    0,    0,    0,    0,    0,    0,\n",
       "           0,    0,    0,    0,    0,    0,    0,    0,    0,    0,    0,\n",
       "           0,    0,    0,    0,    0,    0,    0,    0,    0,    0,    0,\n",
       "           0,    0,    0,    0,    0,    0,    0,    0,    0,    0,    0,\n",
       "           0,    0,    0,    0,    0,    0,    0,    0,    0,    0,    0,\n",
       "           0,    0,    0,    0,    0,    0,    0,    0,    0,    0,    0,\n",
       "           0,    0,    0,    0,    0,    0,    0,    0,    0,    0,    0,\n",
       "           0,    0,    0,    0,    0,    0,    0,    0,    0,    0,    0,\n",
       "           0,    0,    0,    0,    0,    0,    0,    0,    0,    0,    0,\n",
       "           0,    0,    0,    0,    0,    0,    0,    0,    0,    0,    0,\n",
       "           0,    0,    0,    0,    0,    0,    0,    0,    0,    0,    0,\n",
       "           0,    0,    0,    0,    0,    0,    0,    0,    0,    0,    0,\n",
       "           0,    0,    0,    0,    0,    0,    0,    0,    0,    0,    0,\n",
       "           0,    0,    0,    0,    0,    0,    0,    0,    0,    0,    0,\n",
       "           0,    0,    0,    0,    0,    0,    0,    0,    0,    0,    0,\n",
       "           0,    0,    0,    0,    0,    0,    0,    0,    0,    0]],\n",
       "      dtype=int64)>"
      ]
     },
     "execution_count": 15,
     "metadata": {},
     "output_type": "execute_result"
    }
   ],
   "source": [
    "import random\n",
    "random_sentence = random.choice(train_sentences)\n",
    "print(f'Original text:\\n {random_sentence}\\\n",
    "        \\n\\nVectorized version:')\n",
    "text_vectorizer([random_sentence])"
   ]
  },
  {
   "cell_type": "code",
   "execution_count": 16,
   "id": "eb0c727d",
   "metadata": {
    "id": "eb0c727d"
   },
   "outputs": [],
   "source": [
    "#get unique vocab\n",
    "words_in_vocab = text_vectorizer.get_vocabulary()\n",
    "top_5_words = words_in_vocab[:5]\n",
    "bottom_5_words = words_in_vocab[-5:]"
   ]
  },
  {
   "cell_type": "code",
   "execution_count": 17,
   "id": "4ad55923",
   "metadata": {
    "colab": {
     "base_uri": "https://localhost:8080/",
     "height": 0
    },
    "id": "4ad55923",
    "outputId": "28f9c0d7-edb8-431c-d695-b53d518e8751"
   },
   "outputs": [
    {
     "data": {
      "text/plain": [
       "['', '[UNK]', 'experience', 'work', 'team']"
      ]
     },
     "metadata": {},
     "output_type": "display_data"
    },
    {
     "data": {
      "text/plain": [
       "['photographing',\n",
       " 'photographic',\n",
       " 'philanthropist',\n",
       " 'peterborough',\n",
       " 'pediatric']"
      ]
     },
     "metadata": {},
     "output_type": "display_data"
    }
   ],
   "source": [
    "display(top_5_words)\n",
    "display(bottom_5_words)"
   ]
  },
  {
   "cell_type": "markdown",
   "id": "b5fc220c",
   "metadata": {
    "id": "b5fc220c"
   },
   "source": [
    "### Embeddings"
   ]
  },
  {
   "cell_type": "code",
   "execution_count": 18,
   "id": "3a49bdbb",
   "metadata": {
    "colab": {
     "base_uri": "https://localhost:8080/"
    },
    "id": "3a49bdbb",
    "outputId": "cb378c86-92dc-4f46-f573-ce084b89a3cd"
   },
   "outputs": [
    {
     "data": {
      "text/plain": [
       "<keras.layers.core.embedding.Embedding at 0x149d5ddbd88>"
      ]
     },
     "execution_count": 18,
     "metadata": {},
     "output_type": "execute_result"
    }
   ],
   "source": [
    "from tensorflow.keras import layers\n",
    "\n",
    "embedding = layers.Embedding(input_dim = max_vocab_length,\n",
    "                             output_dim = 128,\n",
    "                             input_length = max_length\n",
    "                             )\n",
    "embedding"
   ]
  },
  {
   "cell_type": "code",
   "execution_count": 19,
   "id": "f5f9946c",
   "metadata": {
    "colab": {
     "base_uri": "https://localhost:8080/"
    },
    "id": "f5f9946c",
    "outputId": "f02e60e1-2832-4aab-c9fa-b686f8eb971b"
   },
   "outputs": [
    {
     "name": "stdout",
     "output_type": "stream",
     "text": [
      "Original text:\n",
      " english teacher abroad conversational help teacher get safe amp secure job abroad play kid get paid vacancy asia monthly cost living housing providedairfare providedexcellent student loan credit cardsgabriel adkins url ed c b f e cdb decc dd cfd f url db f c db e c fc ab ea ac b f e b university degree required tefl tesol celta teaching experience preferred necessarycanada u passport holder see job description education bachelor degree education management        \n",
      "\\Embedded version:\n"
     ]
    },
    {
     "data": {
      "text/plain": [
       "<tf.Tensor: shape=(1, 1000, 128), dtype=float32, numpy=\n",
       "array([[[ 0.01136438, -0.02843565,  0.00166283, ...,  0.00632368,\n",
       "          0.0242558 , -0.0128258 ],\n",
       "        [ 0.00901545,  0.02904866,  0.04746297, ..., -0.03776705,\n",
       "          0.0169765 ,  0.01142959],\n",
       "        [-0.01793207, -0.0192886 ,  0.0378941 , ..., -0.04778458,\n",
       "         -0.01419499, -0.00496035],\n",
       "        ...,\n",
       "        [ 0.03243356, -0.04337819, -0.00767685, ..., -0.00396029,\n",
       "         -0.02915788, -0.01546546],\n",
       "        [ 0.03243356, -0.04337819, -0.00767685, ..., -0.00396029,\n",
       "         -0.02915788, -0.01546546],\n",
       "        [ 0.03243356, -0.04337819, -0.00767685, ..., -0.00396029,\n",
       "         -0.02915788, -0.01546546]]], dtype=float32)>"
      ]
     },
     "execution_count": 19,
     "metadata": {},
     "output_type": "execute_result"
    }
   ],
   "source": [
    "import random\n",
    "random_sentence = random.choice(train_sentences)\n",
    "print(f'Original text:\\n {random_sentence}\\\n",
    "        \\n\\Embedded version:')\n",
    "\n",
    "#embed the random sentence (turn it into dense vectors of fixed size)\n",
    "sample_embed = embedding(text_vectorizer([random_sentence]))\n",
    "sample_embed"
   ]
  },
  {
   "cell_type": "code",
   "execution_count": 20,
   "id": "2PHrTz5gJlcw",
   "metadata": {
    "id": "2PHrTz5gJlcw"
   },
   "outputs": [],
   "source": [
    "import numpy as np\n",
    "y_train = np.asarray(train_labels).astype('float32').reshape((-1,1))\n",
    "y_test = np.asarray(test_labels).astype('float32').reshape((-1,1))"
   ]
  },
  {
   "cell_type": "markdown",
   "id": "f9741236",
   "metadata": {
    "id": "f9741236"
   },
   "source": [
    "### ResNet Block"
   ]
  },
  {
   "cell_type": "code",
   "execution_count": null,
   "id": "cd971616",
   "metadata": {
    "id": "cd971616"
   },
   "outputs": [],
   "source": [
    "from models.modified_ResNet import ResNet_Module\n",
    "from models.BiLSTM import BiLSTM_Module"
   ]
  },
  {
   "cell_type": "code",
   "execution_count": 22,
   "id": "372dd0a8",
   "metadata": {},
   "outputs": [],
   "source": [
    "from tensorflow.keras import layers\n",
    "import matplotlib.pyplot as plt\n",
    "from sklearn.metrics import confusion_matrix, classification_report, plot_confusion_matrix\n",
    "\n",
    "SAVE_DIR = \"model_logs\""
   ]
  },
  {
   "cell_type": "markdown",
   "id": "af8b7f09",
   "metadata": {
    "id": "jFgdNqPEJavV"
   },
   "source": [
    "### proposed"
   ]
  },
  {
   "cell_type": "code",
   "execution_count": 24,
   "id": "VAQHkPC-Jaxe",
   "metadata": {
    "id": "VAQHkPC-Jaxe"
   },
   "outputs": [
    {
     "name": "stdout",
     "output_type": "stream",
     "text": [
      "Model: \"proposed_model\"\n",
      "__________________________________________________________________________________________________\n",
      " Layer (type)                   Output Shape         Param #     Connected to                     \n",
      "==================================================================================================\n",
      " input_1 (InputLayer)           [(None, 1)]          0           []                               \n",
      "                                                                                                  \n",
      " text_vectorization (TextVector  (None, 1000)        0           ['input_1[0][0]']                \n",
      " ization)                                                                                         \n",
      "                                                                                                  \n",
      " embedding (Embedding)          (None, 1000, 128)    1280000     ['text_vectorization[0][0]']     \n",
      "                                                                                                  \n",
      " conv1d (Conv1D)                (None, 497, 64)      57408       ['embedding[0][0]']              \n",
      "                                                                                                  \n",
      " batch_normalization (BatchNorm  (None, 497, 64)     256         ['conv1d[0][0]']                 \n",
      " alization)                                                                                       \n",
      "                                                                                                  \n",
      " activation (Activation)        (None, 497, 64)      0           ['batch_normalization[0][0]']    \n",
      "                                                                                                  \n",
      " max_pooling1d (MaxPooling1D)   (None, 249, 64)      0           ['activation[0][0]']             \n",
      "                                                                                                  \n",
      " conv1d_1 (Conv1D)              (None, 249, 64)      4160        ['max_pooling1d[0][0]']          \n",
      "                                                                                                  \n",
      " batch_normalization_1 (BatchNo  (None, 249, 64)     256         ['conv1d_1[0][0]']               \n",
      " rmalization)                                                                                     \n",
      "                                                                                                  \n",
      " conv1d_2 (Conv1D)              (None, 249, 64)      12352       ['batch_normalization_1[0][0]']  \n",
      "                                                                                                  \n",
      " batch_normalization_2 (BatchNo  (None, 249, 64)     256         ['conv1d_2[0][0]']               \n",
      " rmalization)                                                                                     \n",
      "                                                                                                  \n",
      " conv1d_3 (Conv1D)              (None, 249, 256)     16640       ['batch_normalization_2[0][0]']  \n",
      "                                                                                                  \n",
      " conv1d_4 (Conv1D)              (None, 249, 256)     16640       ['max_pooling1d[0][0]']          \n",
      "                                                                                                  \n",
      " batch_normalization_3 (BatchNo  (None, 249, 256)    1024        ['conv1d_3[0][0]']               \n",
      " rmalization)                                                                                     \n",
      "                                                                                                  \n",
      " batch_normalization_4 (BatchNo  (None, 249, 256)    1024        ['conv1d_4[0][0]']               \n",
      " rmalization)                                                                                     \n",
      "                                                                                                  \n",
      " add (Add)                      (None, 249, 256)     0           ['batch_normalization_3[0][0]',  \n",
      "                                                                  'batch_normalization_4[0][0]']  \n",
      "                                                                                                  \n",
      " activation_1 (Activation)      (None, 249, 256)     0           ['add[0][0]']                    \n",
      "                                                                                                  \n",
      " conv1d_5 (Conv1D)              (None, 249, 64)      16448       ['activation_1[0][0]']           \n",
      "                                                                                                  \n",
      " batch_normalization_5 (BatchNo  (None, 249, 64)     256         ['conv1d_5[0][0]']               \n",
      " rmalization)                                                                                     \n",
      "                                                                                                  \n",
      " conv1d_6 (Conv1D)              (None, 249, 64)      12352       ['batch_normalization_5[0][0]']  \n",
      "                                                                                                  \n",
      " batch_normalization_6 (BatchNo  (None, 249, 64)     256         ['conv1d_6[0][0]']               \n",
      " rmalization)                                                                                     \n",
      "                                                                                                  \n",
      " conv1d_7 (Conv1D)              (None, 249, 256)     16640       ['batch_normalization_6[0][0]']  \n",
      "                                                                                                  \n",
      " batch_normalization_7 (BatchNo  (None, 249, 256)    1024        ['conv1d_7[0][0]']               \n",
      " rmalization)                                                                                     \n",
      "                                                                                                  \n",
      " add_1 (Add)                    (None, 249, 256)     0           ['batch_normalization_7[0][0]',  \n",
      "                                                                  'activation_1[0][0]']           \n",
      "                                                                                                  \n",
      " activation_2 (Activation)      (None, 249, 256)     0           ['add_1[0][0]']                  \n",
      "                                                                                                  \n",
      " conv1d_8 (Conv1D)              (None, 125, 128)     32896       ['activation_2[0][0]']           \n",
      "                                                                                                  \n",
      " batch_normalization_8 (BatchNo  (None, 125, 128)    512         ['conv1d_8[0][0]']               \n",
      " rmalization)                                                                                     \n",
      "                                                                                                  \n",
      " conv1d_9 (Conv1D)              (None, 125, 128)     49280       ['batch_normalization_8[0][0]']  \n",
      "                                                                                                  \n",
      " batch_normalization_9 (BatchNo  (None, 125, 128)    512         ['conv1d_9[0][0]']               \n",
      " rmalization)                                                                                     \n",
      "                                                                                                  \n",
      " conv1d_10 (Conv1D)             (None, 125, 512)     66048       ['batch_normalization_9[0][0]']  \n",
      "                                                                                                  \n",
      " conv1d_11 (Conv1D)             (None, 125, 512)     131584      ['activation_2[0][0]']           \n",
      "                                                                                                  \n",
      " batch_normalization_10 (BatchN  (None, 125, 512)    2048        ['conv1d_10[0][0]']              \n",
      " ormalization)                                                                                    \n",
      "                                                                                                  \n",
      " batch_normalization_11 (BatchN  (None, 125, 512)    2048        ['conv1d_11[0][0]']              \n",
      " ormalization)                                                                                    \n"
     ]
    },
    {
     "name": "stdout",
     "output_type": "stream",
     "text": [
      "                                                                                                  \n",
      " add_2 (Add)                    (None, 125, 512)     0           ['batch_normalization_10[0][0]', \n",
      "                                                                  'batch_normalization_11[0][0]'] \n",
      "                                                                                                  \n",
      " activation_3 (Activation)      (None, 125, 512)     0           ['add_2[0][0]']                  \n",
      "                                                                                                  \n",
      " conv1d_12 (Conv1D)             (None, 125, 128)     65664       ['activation_3[0][0]']           \n",
      "                                                                                                  \n",
      " batch_normalization_12 (BatchN  (None, 125, 128)    512         ['conv1d_12[0][0]']              \n",
      " ormalization)                                                                                    \n",
      "                                                                                                  \n",
      " conv1d_13 (Conv1D)             (None, 125, 128)     49280       ['batch_normalization_12[0][0]'] \n",
      "                                                                                                  \n",
      " batch_normalization_13 (BatchN  (None, 125, 128)    512         ['conv1d_13[0][0]']              \n",
      " ormalization)                                                                                    \n",
      "                                                                                                  \n",
      " conv1d_14 (Conv1D)             (None, 125, 512)     66048       ['batch_normalization_13[0][0]'] \n",
      "                                                                                                  \n",
      " batch_normalization_14 (BatchN  (None, 125, 512)    2048        ['conv1d_14[0][0]']              \n",
      " ormalization)                                                                                    \n",
      "                                                                                                  \n",
      " add_3 (Add)                    (None, 125, 512)     0           ['batch_normalization_14[0][0]', \n",
      "                                                                  'activation_3[0][0]']           \n",
      "                                                                                                  \n",
      " activation_4 (Activation)      (None, 125, 512)     0           ['add_3[0][0]']                  \n",
      "                                                                                                  \n",
      " conv1d_15 (Conv1D)             (None, 63, 256)      131328      ['activation_4[0][0]']           \n",
      "                                                                                                  \n",
      " batch_normalization_15 (BatchN  (None, 63, 256)     1024        ['conv1d_15[0][0]']              \n",
      " ormalization)                                                                                    \n",
      "                                                                                                  \n",
      " conv1d_16 (Conv1D)             (None, 63, 256)      196864      ['batch_normalization_15[0][0]'] \n",
      "                                                                                                  \n",
      " batch_normalization_16 (BatchN  (None, 63, 256)     1024        ['conv1d_16[0][0]']              \n",
      " ormalization)                                                                                    \n",
      "                                                                                                  \n",
      " conv1d_17 (Conv1D)             (None, 63, 1024)     263168      ['batch_normalization_16[0][0]'] \n",
      "                                                                                                  \n",
      " conv1d_18 (Conv1D)             (None, 63, 1024)     525312      ['activation_4[0][0]']           \n",
      "                                                                                                  \n",
      " batch_normalization_17 (BatchN  (None, 63, 1024)    4096        ['conv1d_17[0][0]']              \n",
      " ormalization)                                                                                    \n",
      "                                                                                                  \n",
      " batch_normalization_18 (BatchN  (None, 63, 1024)    4096        ['conv1d_18[0][0]']              \n",
      " ormalization)                                                                                    \n",
      "                                                                                                  \n",
      " add_4 (Add)                    (None, 63, 1024)     0           ['batch_normalization_17[0][0]', \n",
      "                                                                  'batch_normalization_18[0][0]'] \n",
      "                                                                                                  \n",
      " activation_5 (Activation)      (None, 63, 1024)     0           ['add_4[0][0]']                  \n",
      "                                                                                                  \n",
      " conv1d_19 (Conv1D)             (None, 63, 256)      262400      ['activation_5[0][0]']           \n",
      "                                                                                                  \n",
      " batch_normalization_19 (BatchN  (None, 63, 256)     1024        ['conv1d_19[0][0]']              \n",
      " ormalization)                                                                                    \n",
      "                                                                                                  \n",
      " conv1d_20 (Conv1D)             (None, 63, 256)      196864      ['batch_normalization_19[0][0]'] \n",
      "                                                                                                  \n",
      " batch_normalization_20 (BatchN  (None, 63, 256)     1024        ['conv1d_20[0][0]']              \n",
      " ormalization)                                                                                    \n",
      "                                                                                                  \n",
      " conv1d_21 (Conv1D)             (None, 63, 1024)     263168      ['batch_normalization_20[0][0]'] \n",
      "                                                                                                  \n",
      " batch_normalization_21 (BatchN  (None, 63, 1024)    4096        ['conv1d_21[0][0]']              \n",
      " ormalization)                                                                                    \n",
      "                                                                                                  \n",
      " add_5 (Add)                    (None, 63, 1024)     0           ['batch_normalization_21[0][0]', \n",
      "                                                                  'activation_5[0][0]']           \n",
      "                                                                                                  \n",
      " activation_6 (Activation)      (None, 63, 1024)     0           ['add_5[0][0]']                  \n",
      "                                                                                                  \n",
      " conv1d_22 (Conv1D)             (None, 32, 512)      524800      ['activation_6[0][0]']           \n",
      "                                                                                                  \n",
      " batch_normalization_22 (BatchN  (None, 32, 512)     2048        ['conv1d_22[0][0]']              \n",
      " ormalization)                                                                                    \n",
      "                                                                                                  \n",
      " conv1d_23 (Conv1D)             (None, 32, 512)      786944      ['batch_normalization_22[0][0]'] \n",
      "                                                                                                  \n",
      " batch_normalization_23 (BatchN  (None, 32, 512)     2048        ['conv1d_23[0][0]']              \n",
      " ormalization)                                                                                    \n",
      "                                                                                                  \n",
      " conv1d_24 (Conv1D)             (None, 32, 64)       32832       ['batch_normalization_23[0][0]'] \n",
      "                                                                                                  \n"
     ]
    },
    {
     "name": "stdout",
     "output_type": "stream",
     "text": [
      " conv1d_25 (Conv1D)             (None, 32, 64)       65600       ['activation_6[0][0]']           \n",
      "                                                                                                  \n",
      " batch_normalization_24 (BatchN  (None, 32, 64)      256         ['conv1d_24[0][0]']              \n",
      " ormalization)                                                                                    \n",
      "                                                                                                  \n",
      " batch_normalization_25 (BatchN  (None, 32, 64)      256         ['conv1d_25[0][0]']              \n",
      " ormalization)                                                                                    \n",
      "                                                                                                  \n",
      " add_6 (Add)                    (None, 32, 64)       0           ['batch_normalization_24[0][0]', \n",
      "                                                                  'batch_normalization_25[0][0]'] \n",
      "                                                                                                  \n",
      " activation_7 (Activation)      (None, 32, 64)       0           ['add_6[0][0]']                  \n",
      "                                                                                                  \n",
      " bidirectional (Bidirectional)  (None, 128)          98816       ['embedding[0][0]']              \n",
      "                                                                                                  \n",
      " global_max_pooling1d (GlobalMa  (None, 64)          0           ['activation_7[0][0]']           \n",
      " xPooling1D)                                                                                      \n",
      "                                                                                                  \n",
      " concatenate (Concatenate)      (None, 192)          0           ['bidirectional[0][0]',          \n",
      "                                                                  'global_max_pooling1d[0][0]']   \n",
      "                                                                                                  \n",
      " dense (Dense)                  (None, 1)            193         ['concatenate[0][0]']            \n",
      "                                                                                                  \n",
      "==================================================================================================\n",
      "Total params: 5,275,265\n",
      "Trainable params: 5,258,497\n",
      "Non-trainable params: 16,768\n",
      "__________________________________________________________________________________________________\n"
     ]
    }
   ],
   "source": [
    "from tensorflow.keras import layers\n",
    "from tensorflow import keras\n",
    "inputs = layers.Input(shape=(1,), dtype=\"string\")\n",
    "x = text_vectorizer(inputs)\n",
    "x = embedding(x)\n",
    "\n",
    "block_2 = BiLSTM_block(x)\n",
    "block_1 = ResNet_Module(x)\n",
    "concatenated_output = keras.layers.Concatenate()([block_2,block_1])\n",
    "\n",
    "# x = embedding(concatenated_output)\n",
    "# x = layers.Bidirectional(layers.LSTM(64))(x)\n",
    "outputs = layers.Dense(1, activation='sigmoid')(concatenated_output)\n",
    "model_proposed = tf.keras.Model(inputs, outputs, name=\"proposed_model\")\n",
    "model_proposed.compile(loss='binary_crossentropy', \n",
    "                optimizer=tf.keras.optimizers.Adam(),\n",
    "                metrics=[\"accuracy\"])\n",
    "\n",
    "model_proposed.summary()"
   ]
  },
  {
   "cell_type": "code",
   "execution_count": 28,
   "id": "93d727af",
   "metadata": {},
   "outputs": [
    {
     "name": "stdout",
     "output_type": "stream",
     "text": [
      "Saving TensorBoard log files to: model_logs/model_proposed/20221122-005639\n",
      "Epoch 1/5\n",
      "475/475 [==============================] - 774s 2s/step - loss: 0.1561 - accuracy: 0.9568 - val_loss: 0.3642 - val_accuracy: 0.9463\n",
      "Epoch 2/5\n",
      "475/475 [==============================] - 730s 2s/step - loss: 0.0407 - accuracy: 0.9867 - val_loss: 0.1385 - val_accuracy: 0.9735\n",
      "Epoch 3/5\n",
      "475/475 [==============================] - 739s 2s/step - loss: 0.0092 - accuracy: 0.9968 - val_loss: 0.0955 - val_accuracy: 0.9814\n",
      "Epoch 4/5\n",
      "475/475 [==============================] - 771s 2s/step - loss: 0.0097 - accuracy: 0.9969 - val_loss: 0.2020 - val_accuracy: 0.9746\n",
      "Epoch 5/5\n",
      "475/475 [==============================] - 737s 2s/step - loss: 0.0058 - accuracy: 0.9982 - val_loss: 0.0893 - val_accuracy: 0.9832\n"
     ]
    }
   ],
   "source": [
    "model_proposed_history = model_proposed.fit(x=train_sentences, \n",
    "                              y=y_train,\n",
    "                              epochs=5,\n",
    "                              validation_data=(test_sentences, y_test),\n",
    "                              callbacks=[create_tensorboard_callback(dir_name=SAVE_DIR,\n",
    "                                                                    experiment_name=\"model_proposed\")])"
   ]
  },
  {
   "cell_type": "code",
   "execution_count": 29,
   "id": "bcca37ca",
   "metadata": {},
   "outputs": [
    {
     "name": "stdout",
     "output_type": "stream",
     "text": [
      "84/84 [==============================] - 28s 307ms/step\n"
     ]
    },
    {
     "data": {
      "text/plain": [
       "{'accuracy': 98.3221476510067,\n",
       " 'precision': 0.983179523411282,\n",
       " 'recall': 0.9832214765100671,\n",
       " 'f1': 0.9818961460108598}"
      ]
     },
     "execution_count": 29,
     "metadata": {},
     "output_type": "execute_result"
    }
   ],
   "source": [
    "model_proposed_pred_probs = model_proposed.predict(test_sentences)\n",
    "model_proposed_preds = tf.squeeze(tf.round(model_proposed_pred_probs))\n",
    "model_proposed_results = calculate_results(y_true=test_labels,\n",
    "                                    y_pred=model_proposed_preds)\n",
    "model_proposed_results"
   ]
  },
  {
   "cell_type": "code",
   "execution_count": 30,
   "id": "61e3fbe5",
   "metadata": {},
   "outputs": [
    {
     "data": {
      "image/png": "[encoded data removed]",
      "text/plain": [
       "<Figure size 432x288 with 1 Axes>"
      ]
     },
     "metadata": {
      "needs_background": "light"
     },
     "output_type": "display_data"
    },
    {
     "data": {
      "image/png": "[encoded data removed]",
      "text/plain": [
       "<Figure size 432x288 with 1 Axes>"
      ]
     },
     "metadata": {
      "needs_background": "light"
     },
     "output_type": "display_data"
    }
   ],
   "source": [
    "import matplotlib.pyplot as plt\n",
    "## Dense\n",
    "plt.plot(model_proposed_history.history['val_loss'], color='b', label=\"validation loss\")\n",
    "plt.plot(model_proposed_history.history['loss'], color='red', label=\"loss\")\n",
    "plt.title(\"Dense Model Loss\")\n",
    "plt.xlabel(\"Number of Epochs\")\n",
    "plt.ylabel(\"Loss\")\n",
    "plt.legend()\n",
    "plt.show()\n",
    "\n",
    "plt.plot(model_proposed_history.history['val_accuracy'], color='b', label=\"validation accuracy\")\n",
    "plt.plot(model_proposed_history.history['accuracy'], color='red', label=\"accuracy\")\n",
    "plt.title(\"Dense Model Accuracy\")\n",
    "plt.xlabel(\"Number of Epochs\")\n",
    "plt.ylabel(\"Loss\")\n",
    "plt.legend()\n",
    "plt.show()"
   ]
  },
  {
   "cell_type": "code",
   "execution_count": 31,
   "id": "d9183fe1",
   "metadata": {},
   "outputs": [
    {
     "name": "stdout",
     "output_type": "stream",
     "text": [
      "[[2536    2]\n",
      " [  43  101]]\n",
      "              precision    recall  f1-score   support\n",
      "\n",
      "           0       0.98      1.00      0.99      2538\n",
      "           1       0.98      0.70      0.82       144\n",
      "\n",
      "    accuracy                           0.98      2682\n",
      "   macro avg       0.98      0.85      0.90      2682\n",
      "weighted avg       0.98      0.98      0.98      2682\n",
      "\n"
     ]
    }
   ],
   "source": [
    "from sklearn.metrics import confusion_matrix, classification_report, plot_confusion_matrix\n",
    "\n",
    "print(confusion_matrix(test_labels, model_proposed_preds))\n",
    "print(classification_report(test_labels, model_proposed_preds))"
   ]
  },
  {
   "cell_type": "code",
   "execution_count": 32,
   "id": "1b1b6915",
   "metadata": {},
   "outputs": [
    {
     "name": "stderr",
     "output_type": "stream",
     "text": [
      "WARNING:absl:Found untraced functions such as _jit_compiled_convolution_op, _jit_compiled_convolution_op, _jit_compiled_convolution_op, _jit_compiled_convolution_op, _jit_compiled_convolution_op while saving (showing 5 of 30). These functions will not be directly callable after loading.\n"
     ]
    },
    {
     "name": "stdout",
     "output_type": "stream",
     "text": [
      "INFO:tensorflow:Assets written to: saved_models/proposed_model\\assets\n"
     ]
    },
    {
     "name": "stderr",
     "output_type": "stream",
     "text": [
      "INFO:tensorflow:Assets written to: saved_models/proposed_model\\assets\n"
     ]
    }
   ],
   "source": [
    "model_proposed.save('saved_models/proposed_model')"
   ]
  },
  {
   "cell_type": "code",
   "execution_count": 33,
   "id": "0747e028",
   "metadata": {},
   "outputs": [],
   "source": [
    "loaded_2 = keras.models.load_model(\"saved_models/proposed_model\")"
   ]
  },
  {
   "cell_type": "code",
   "execution_count": 34,
   "id": "7a5c7310",
   "metadata": {},
   "outputs": [
    {
     "name": "stdout",
     "output_type": "stream",
     "text": [
      "84/84 [==============================] - 26s 285ms/step\n"
     ]
    },
    {
     "data": {
      "text/plain": [
       "{'accuracy': 98.3221476510067,\n",
       " 'precision': 0.983179523411282,\n",
       " 'recall': 0.9832214765100671,\n",
       " 'f1': 0.9818961460108598}"
      ]
     },
     "execution_count": 34,
     "metadata": {},
     "output_type": "execute_result"
    }
   ],
   "source": [
    "pred_probs = loaded_2.predict(test_sentences)\n",
    "preds = tf.squeeze(tf.round(pred_probs))\n",
    "results = calculate_results(y_true=test_labels,\n",
    "                                    y_pred=preds)\n",
    "results"
   ]
  },
  {
   "cell_type": "code",
   "execution_count": null,
   "id": "76cd2da5",
   "metadata": {},
   "outputs": [],
   "source": []
  }
 ],
 "metadata": {
  "accelerator": "GPU",
  "colab": {
   "collapsed_sections": [
    "e75dc58d",
    "b5fc220c",
    "9d6f0dc0"
   ],
   "provenance": []
  },
  "gpuClass": "standard",
  "kernelspec": {
   "display_name": "Python 3 (ipykernel)",
   "language": "python",
   "name": "python3"
  },
  "language_info": {
   "codemirror_mode": {
    "name": "ipython",
    "version": 3
   },
   "file_extension": ".py",
   "mimetype": "text/x-python",
   "name": "python",
   "nbconvert_exporter": "python",
   "pygments_lexer": "ipython3",
   "version": "3.7.13"
  }
 },
 "nbformat": 4,
 "nbformat_minor": 5
}
